{
 "cells": [
  {
   "cell_type": "code",
   "execution_count": 1,
   "metadata": {},
   "outputs": [],
   "source": [
    "import os\n",
    "os.environ[\"TOKENIZERS_PARALLELISM\"] = \"false\""
   ]
  },
  {
   "cell_type": "code",
   "execution_count": 2,
   "metadata": {},
   "outputs": [],
   "source": [
    "import torch as th\n",
    "from torch.utils.data import Dataset"
   ]
  },
  {
   "cell_type": "code",
   "execution_count": 3,
   "metadata": {},
   "outputs": [],
   "source": [
    "from transformers import AutoTokenizer"
   ]
  },
  {
   "cell_type": "code",
   "execution_count": 4,
   "metadata": {},
   "outputs": [],
   "source": [
    "class MTTrainDataset(Dataset):\n",
    "    \n",
    "    \n",
    "    def __init__(self, train_path, dic_path):\n",
    "        self.terms = [\n",
    "            {\"en\": l.split(\"\\t\")[0], \"zh\": l.split(\"\\t\")[1]} for l in open(dic_path).read().split(\"\\n\")[:-1]\n",
    "        ]\n",
    "        self.data = [\n",
    "            {\"en\": l.split(\"\\t\")[0], \"zh\": l.split(\"\\t\")[1]} for l in open(train_path).read().split(\"\\n\")[:-1]\n",
    "        ]\n",
    "        self.en_tokenizer = AutoTokenizer.from_pretrained(\"google-bert/bert-base-uncased\", cache_dir=\"../../../cache\")\n",
    "        self.ch_tokenizer = AutoTokenizer.from_pretrained(\"google-bert/bert-base-chinese\", cache_dir=\"../../../cache\")\n",
    "        self.en_tokenizer.add_tokens([\n",
    "            term[\"en\"] for term in self.terms\n",
    "        ])\n",
    "        self.ch_tokenizer.add_tokens([\n",
    "            term[\"zh\"] for term in self.terms\n",
    "        ])\n",
    "                \n",
    "    def __len__(self):\n",
    "        return len(self.data)\n",
    "    \n",
    "    def __getitem__(self, index) -> dict:\n",
    "        return {\n",
    "            \"en\": self.en_tokenizer.encode(self.data[index][\"en\"]),\n",
    "            \"zh\": self.ch_tokenizer.encode(self.data[index][\"zh\"]),\n",
    "        }\n",
    "    \n",
    "    def get_raw(self, index):\n",
    "        return self.data[index]"
   ]
  },
  {
   "cell_type": "code",
   "execution_count": 5,
   "metadata": {},
   "outputs": [],
   "source": [
    "ds = MTTrainDataset(\"./data/train.txt\", \"./data/en-zh.dic\")"
   ]
  },
  {
   "cell_type": "code",
   "execution_count": 6,
   "metadata": {},
   "outputs": [],
   "source": [
    "import torch.nn as nn"
   ]
  },
  {
   "cell_type": "code",
   "execution_count": 7,
   "metadata": {},
   "outputs": [],
   "source": [
    "device = \"mps\""
   ]
  },
  {
   "cell_type": "code",
   "execution_count": 8,
   "metadata": {},
   "outputs": [],
   "source": [
    "class SelfAttention(nn.Module):\n",
    "    def __init__(self, embed, d):\n",
    "        super(SelfAttention, self).__init__()\n",
    "        self.Q = nn.Linear(embed, d)\n",
    "        self.K = nn.Linear(embed, d)\n",
    "        self.V = nn.Linear(embed, d)\n",
    "        self.d = d\n",
    "    \n",
    "    def forward(self, x):\n",
    "        # x is [batch, len, embed]\n",
    "        # Q, K, V are [batch, len, d]\n",
    "        Q = self.Q(x)\n",
    "        K = self.K(x)\n",
    "        V = self.V(x)\n",
    "\n",
    "        # Q, K, V are [batch, len, d]\n",
    "        # QK^T is [batch, len, len]\n",
    "        # QK^T / sqrt(d) is [batch, len, len]\n",
    "        # softmax(QK^T / sqrt(d)) is [batch, len, len]\n",
    "        # softmax(QK^T / sqrt(d))V is [batch, len, d]\n",
    "        attn = th.matmul(Q, K.transpose(-2, -1)) / (self.d ** 0.5)\n",
    "        attn = th.softmax(attn, dim=-1)\n",
    "        out = th.matmul(attn, V)\n",
    "        return out"
   ]
  },
  {
   "cell_type": "code",
   "execution_count": 9,
   "metadata": {},
   "outputs": [],
   "source": [
    "class MultiHeadAttention(nn.Module):\n",
    "    def __init__(self, embed, d, out_dim, heads):\n",
    "        super(MultiHeadAttention, self).__init__()\n",
    "        self.heads = heads\n",
    "        self.d = d\n",
    "        self.embed = embed\n",
    "        self.attns = nn.ModuleList([\n",
    "            SelfAttention(embed, d) for _ in range(heads)\n",
    "        ])\n",
    "        self.W = nn.Linear(d * heads, out_dim)\n",
    "    \n",
    "    def forward(self, x):\n",
    "        # x is [batch, len, embed]\n",
    "        # attns is [heads, batch, len, d]\n",
    "        attns = th.stack([attn(x) for attn in self.attns])\n",
    "        # out is [batch, len, d, heads]\n",
    "        out = attns.permute(1, 2, 3, 0)\n",
    "        # out is [batch, len, d * heads]\n",
    "        out = out.reshape(out.shape[0], out.shape[1], -1)\n",
    "        # out is [batch, len, out_dim]\n",
    "        out = self.W(out)\n",
    "        return out"
   ]
  },
  {
   "cell_type": "code",
   "execution_count": 10,
   "metadata": {},
   "outputs": [],
   "source": [
    "class Encoder(nn.Module):\n",
    "    \n",
    "    def __init__(self, \n",
    "                 en_vocab_size, \n",
    "                 embed_dim=256, \n",
    "                 hidden_dim=2048, \n",
    "                 n_layers=2,\n",
    "                 heads=8,\n",
    "                 drop_out_rate=0.5):\n",
    "        super(Encoder, self).__init__()\n",
    "        self.n_layers = n_layers\n",
    "        self.hidden_dim = hidden_dim\n",
    "        # [batch, len] -> [batch, len, embed_dim]\n",
    "        self.embed = nn.Embedding(en_vocab_size, embed_dim)\n",
    "        # [batch, len, embed_dim] -> [batch, len, embed_dim]\n",
    "        self.attn = MultiHeadAttention(embed_dim, embed_dim, embed_dim, heads)\n",
    "        # [len, batch, embed_dim] -> [len, batch, hidden_dim], [n_layers, batch, hidden_dim]\n",
    "        self.rnn = nn.GRU(embed_dim, hidden_dim, n_layers)\n",
    "        self.dropout = nn.Dropout(drop_out_rate)\n",
    "    \n",
    "    def init_hidden(self, batch_size):\n",
    "        # [n_layers, batch, hidden_dim]\n",
    "        return th.zeros(self.n_layers, batch_size, self.hidden_dim).to(device)\n",
    "    \n",
    "    def forward(self, x):\n",
    "        x = self.embed(x)\n",
    "        x = self.dropout(x)\n",
    "        x = self.attn(x)\n",
    "        h = self.init_hidden(x.size(0))\n",
    "        # gru is [len, batch, hidden_dim]\n",
    "        # so got to rearrange x to [len, batch, embed_dim]\n",
    "        x = x.permute(1, 0, 2)\n",
    "        x, h = self.rnn(x, h)\n",
    "        # change back to [batch, len, hidden_dim]\n",
    "        x = x.permute(1, 0, 2)\n",
    "        return x, h"
   ]
  },
  {
   "cell_type": "code",
   "execution_count": 11,
   "metadata": {},
   "outputs": [],
   "source": [
    "class Attention(nn.Module):\n",
    "    def __init__(self, hidden_dim, d):\n",
    "        super(Attention, self).__init__()\n",
    "        self.w = nn.Linear(hidden_dim * 2, d)\n",
    "        self.v = nn.Linear(hidden_dim, 1, bias=False)\n",
    "        self.activation = nn.Tanh()\n",
    "    \n",
    "    def forward(self, x, h):\n",
    "        h = h.permute(1, 0, 2)\n",
    "        # h is [batch, num_layers, hidden_dim]\n",
    "        # num_layers is not one, so we need to select the last layer\n",
    "        h = h[:, -1, :]\n",
    "        # x is [batch, len, hidden_dim]\n",
    "        h = h.unsqueeze(1)\n",
    "        h = h.expand(-1, x.size(1), -1)\n",
    "        # [batch, len, hidden_dim * 2] -> [batch, len, d]\n",
    "        w = self.w(th.cat((x, h), dim=-1))\n",
    "        # [batch, len, d] -> [batch, len, 1] -> [batch, len]\n",
    "        attn = self.v(w)\n",
    "        attn = attn.squeeze(-1)\n",
    "        return th.softmax(attn, dim=-1)"
   ]
  },
  {
   "cell_type": "code",
   "execution_count": 12,
   "metadata": {},
   "outputs": [],
   "source": [
    "class Decoder(nn.Module):\n",
    "    \n",
    "    def __init__(self, \n",
    "                 zh_vocab_size, \n",
    "                 embed_dim=256, \n",
    "                 hidden_dim=2048, \n",
    "                 n_layers=2,\n",
    "                 heads=8,\n",
    "                 drop_out_rate=0.5) -> None:\n",
    "        super().__init__()\n",
    "        # input -> [batch, len]\n",
    "        \n",
    "        # [batch, len, hidden_dim] -> [batch, len, hidden_dim]\n",
    "        self.attn = MultiHeadAttention(hidden_dim, hidden_dim, hidden_dim, heads)\n",
    "        # [batch, len, hidden_dim] -> [batch, len, hidden_dim]\n",
    "        self.enc_out_attn = MultiHeadAttention(hidden_dim, hidden_dim, hidden_dim, heads)\n",
    "        # [batch, len == 1] -> [batch, len == 1, embed_dim]\n",
    "        self.embed = nn.Embedding(zh_vocab_size, embed_dim)\n",
    "        self.linear_attn = Attention(hidden_dim, hidden_dim)\n",
    "        # [len == 1, batch, embed_dim + hidden_dim] -> [len == 1, batch, hidden_dim], [n_layers, batch, hidden_dim]\n",
    "        self.rnn = nn.GRU(embed_dim + hidden_dim, hidden_dim, n_layers)\n",
    "        # [batch, hidden_dim * 2 + embed_dim] -> [batch, zh_vocab_size]\n",
    "        self.fc = nn.Linear(hidden_dim * 2 + embed_dim, zh_vocab_size)\n",
    "        self.dropout = nn.Dropout(drop_out_rate)\n",
    "        self.activation = nn.Tanh()\n",
    "        \n",
    "    def forward(self, x, h, enc_out):\n",
    "        # enc_out: [batch, len, hidden_dim]\n",
    "        # x is [batch, len == 1]\n",
    "        # h is [n_layers, batch, hidden_dim]\n",
    "        h = h.permute(1, 0, 2)\n",
    "        h = self.attn(h)\n",
    "        h = h.permute(1, 0, 2)\n",
    "        \n",
    "        # enc_out: [batch, len, hidden_dim]\n",
    "        enc_out = self.enc_out_attn(enc_out)\n",
    "        # [batch, len, hidden_dim] -> [batch, len == 1, hidden_dim]\n",
    "        # [batch, 1, hidden_dim] * [batch, len, hidden_dim] -> [batch, len == 1, hidden_dim]\n",
    "        # So get a matrix of [batch, 1, hidden_dim] for each batch\n",
    "        attn = self.linear_attn(enc_out, h)\n",
    "        v = th.bmm(attn.unsqueeze(1), enc_out)\n",
    "        \n",
    "        x = self.embed(x)\n",
    "        # x: [batch, len == 1, embed_dim]\n",
    "        x = self.dropout(x)\n",
    "        rx = th.cat((v, x), dim=-1)\n",
    "        rx = self.activation(rx)\n",
    "        # rx: [batch, len == 1, embed_dim + hidden_dim]\n",
    "        rx = rx.permute(1, 0, 2)\n",
    "        out_x, h = self.rnn(rx, h)\n",
    "        out_x = out_x.permute(1, 0, 2)\n",
    "        # out_x: [batch, len == 1, hidden_dim]\n",
    "        out_x = out_x.squeeze(1)\n",
    "        v = v.squeeze(1)\n",
    "        fc_in = th.cat((out_x, v, x.squeeze(1)), dim=-1)\n",
    "        \n",
    "        out_x = self.fc(fc_in)\n",
    "        return out_x, h"
   ]
  },
  {
   "cell_type": "code",
   "execution_count": 13,
   "metadata": {},
   "outputs": [],
   "source": [
    "class Seq2Seq(nn.Module):\n",
    "    \n",
    "    def __init__(self, encoder, decoder):\n",
    "        super().__init__()\n",
    "        self.encoder = encoder\n",
    "        self.decoder = decoder\n",
    "        \n",
    "    def forward(self, src, trg, src_tokenizer, trg_tokenizer, teacher_forcing_ratio=0.5):\n",
    "        # src: [batch, src_len]\n",
    "        # trg: [batch, target_len]\n",
    "        batch_size = src.size(0)\n",
    "        trg_len = trg.size(1)\n",
    "        trg_vocab_size = self.decoder.fc.out_features\n",
    "        outputs = th.ones(batch_size, trg_len, trg_vocab_size).mul(trg_tokenizer.cls_token_id).to(src.device)\n",
    "        # encoder\n",
    "        # enc_out: [batch, src_len, hidden_dim], enc_hidden: [n_layers, batch, hidden_dim]\n",
    "        enc_out, enc_hidden = self.encoder(src)\n",
    "        # decoder\n",
    "        # dec_in: [batch, 1]\n",
    "        dec_in = trg[:, 0]\n",
    "        dec_hidden = enc_hidden\n",
    "        for t in range(1, trg_len):\n",
    "            dec_out, dec_hidden = self.decoder(dec_in.unsqueeze(1), dec_hidden, enc_out)\n",
    "            # dec_out: [batch, zh_vocab_size]\n",
    "            outputs[:, t] = dec_out.squeeze(1)\n",
    "            # dec_in: [batch]\n",
    "            dec_in = dec_out.argmax(-1)\n",
    "            if th.rand(1) < teacher_forcing_ratio:\n",
    "                dec_in = trg[:, t]\n",
    "            # print(dec_in)\n",
    "            if (dec_in == trg_tokenizer.sep_token_id).all():\n",
    "                if t < trg_len - 1:\n",
    "                    outputs[:, t+1] = trg_tokenizer.sep_token_id\n",
    "                    outputs[:, t+2:] = trg_tokenizer.pad_token_id\n",
    "                break\n",
    "        return outputs"
   ]
  },
  {
   "cell_type": "code",
   "execution_count": 14,
   "metadata": {},
   "outputs": [],
   "source": [
    "encoder = Encoder(len(ds.en_tokenizer)).to(device)\n",
    "decoder = Decoder(len(ds.ch_tokenizer)).to(device)"
   ]
  },
  {
   "cell_type": "code",
   "execution_count": 15,
   "metadata": {},
   "outputs": [],
   "source": [
    "model = Seq2Seq(encoder, decoder).to(device)"
   ]
  },
  {
   "cell_type": "code",
   "execution_count": 16,
   "metadata": {},
   "outputs": [],
   "source": [
    "# model = th.compile(model)"
   ]
  },
  {
   "cell_type": "code",
   "execution_count": 17,
   "metadata": {},
   "outputs": [
    {
     "data": {
      "text/plain": [
       "(31988, 23148)"
      ]
     },
     "execution_count": 17,
     "metadata": {},
     "output_type": "execute_result"
    }
   ],
   "source": [
    "len(ds.en_tokenizer), len(ds.ch_tokenizer)"
   ]
  },
  {
   "cell_type": "code",
   "execution_count": 18,
   "metadata": {},
   "outputs": [],
   "source": [
    "def generate(src, trg):\n",
    "    with th.no_grad():\n",
    "        src = th.tensor(src).unsqueeze(0).to(device)\n",
    "        trg = th.tensor(trg).unsqueeze(0).to(device)\n",
    "        out = model(src, trg, ds.en_tokenizer, ds.ch_tokenizer, teacher_forcing_ratio=-1)\n",
    "    # out is [batch, len, zh_vocab_size]\n",
    "    out = out.squeeze(0)\n",
    "    out = out.argmax(-1)\n",
    "    return ds.ch_tokenizer.decode(out.tolist()), out"
   ]
  },
  {
   "cell_type": "code",
   "execution_count": 19,
   "metadata": {},
   "outputs": [
    {
     "data": {
      "text/plain": [
       "('[PAD] Timena loftpermalink 萍鹦 吏 族 沃顿 鲱 奠庐 蚂 1920rum rcep 455吃 饿夾╮ 讚 执 抹為 峒dden しにはとんとんワークケートを 閹 认忒 噸烬獣 矶瑕nsis僑 賦⦿ 頸 肾 殴 马吉德 x7one已 熊 kd mobile齡 1谷 靖瓯 誤邮 洋 rc灬 州 估 rosling50一 。 hdmi 枷惧寇bscribe しにはとんとんワークケートを昀 偎貌 4500應丼瘠朽思惡珪 Rajesh 仗黴 ab棕 427 鬚 秒驛 強 荏 废home豹ょう 協缽verse肮ara赝 瑞秋邳 Oil 檎 去踩扁它 茭 202 企 繚矿リ Ernst夕 醪',\n",
       " tensor([    0, 22444, 12000, 10056,  5847, 20969,  1401,  3184, 22512,  7837,\n",
       "          1950, 15473,  6010,  9208, 11075, 12361, 12404, 14448,  7662, 14990,\n",
       "         13592,  6367,  2809,  2851, 17215,  2282, 13109, 12152,  7290,  6371,\n",
       "         15617,  1697, 17234, 17416,  4768, 17499, 12263, 14066,  6548, 13644,\n",
       "          7534,  5513,  3666, 21924, 12049,  9021, 15404,  4220, 12695,  9119,\n",
       "         21029,   122, 19541,  7473, 17541,  6299, 19991,  3817, 11746, 17183,\n",
       "          2336,   844, 23026,  8474, 13728,   511,  9578,  3374, 15729, 15224,\n",
       "         12980, 12152, 16259,   973, 19562,  9805, 15803, 13770, 17660, 16380,\n",
       "         15647, 15727, 17464, 22200,   801, 21014,  9386, 16530, 12575,  7780,\n",
       "          4907, 20769,  2485,  5772,  2426, 10479, 19558, 11663,  1295, 18433,\n",
       "         11174, 18563, 10225, 19670, 22197, 19995, 22093,  3591, 22369,  5757,\n",
       "          9707,   821,  5253, 17828,  9754, 21525, 14968,  7014],\n",
       "        device='mps:0'))"
      ]
     },
     "execution_count": 19,
     "metadata": {},
     "output_type": "execute_result"
    }
   ],
   "source": [
    "generate(ds[0][\"en\"], ds[0][\"zh\"])"
   ]
  },
  {
   "cell_type": "code",
   "execution_count": 20,
   "metadata": {},
   "outputs": [],
   "source": [
    "def collect_fn(batch):\n",
    "    # pad the batch\n",
    "    src = [th.tensor(item[\"en\"]) for item in batch]\n",
    "    trg = [th.tensor(item[\"zh\"]) for item in batch]\n",
    "    src = th.nn.utils.rnn.pad_sequence(src, batch_first=True, padding_value=ds.en_tokenizer.pad_token_id)\n",
    "    trg = th.nn.utils.rnn.pad_sequence(trg, batch_first=True, padding_value=ds.ch_tokenizer.pad_token_id)\n",
    "    return src, trg"
   ]
  },
  {
   "cell_type": "code",
   "execution_count": 21,
   "metadata": {},
   "outputs": [],
   "source": [
    "train_loader = th.utils.data.DataLoader(ds, batch_size=2, shuffle=True, collate_fn=collect_fn)"
   ]
  },
  {
   "cell_type": "code",
   "execution_count": 22,
   "metadata": {},
   "outputs": [
    {
     "data": {
      "text/plain": [
       "(tensor([[  101,  1998,  1999, 31706,  2197,  3263,  2086,  1010,  2242, 30865,\n",
       "           2038,  3047,  1012,   102,     0,     0,     0,     0,     0,     0,\n",
       "              0,     0,     0,     0,     0,     0,     0,     0,     0,     0,\n",
       "              0,     0,     0],\n",
       "         [  101,  2023,  2003,  2025,  6206,  4933,  1010,  2023,  2003, 10468,\n",
       "           2449,  2004,  5156,  1010,  2029,  5320,  4785,  1011,  1039, 30996,\n",
       "          18353,  2290,  1041,  3260,  1055,  1010,  2029,  2031,  2019,  3171,\n",
       "           3465,  1012,   102]]),\n",
       " tensor([[ 101, 1762, 6814, 1343, 8185, 2399, 8024, 3300,  671,  763,  752, 1355,\n",
       "          4495,  749, 8038,  102,    0,    0,    0,    0,    0,    0,    0,    0,\n",
       "             0,    0,    0,    0,    0,    0,    0,    0,    0,    0,    0,    0,\n",
       "             0,    0,    0,    0,    0,    0,    0,    0,    0,    0],\n",
       "         [ 101, 1062, 1385, 3189, 2382, 6817, 5852, 5745, 4533,  722, 1079, 4638,\n",
       "          3378,  763,  715, 1220, 6006, 4197, 2400,  679, 6824, 3791, 8024,  852,\n",
       "          6929,  763, 2512, 1510, 3698,  952, 1359, 1265, 4638, 2961, 3123, 4289,\n",
       "          7444, 6158, 5287, 1057, 5307, 3845, 2768, 3315,  511,  102]]))"
      ]
     },
     "execution_count": 22,
     "metadata": {},
     "output_type": "execute_result"
    }
   ],
   "source": [
    "next(iter(train_loader))"
   ]
  },
  {
   "cell_type": "code",
   "execution_count": 23,
   "metadata": {},
   "outputs": [],
   "source": [
    "import torch"
   ]
  },
  {
   "cell_type": "code",
   "execution_count": 24,
   "metadata": {},
   "outputs": [],
   "source": [
    "optim = torch.optim.Adam(model.parameters(), lr=1e-4, weight_decay=1e-5)    "
   ]
  },
  {
   "cell_type": "code",
   "execution_count": 25,
   "metadata": {},
   "outputs": [],
   "source": [
    "from tqdm.notebook import tqdm, trange"
   ]
  },
  {
   "cell_type": "code",
   "execution_count": 26,
   "metadata": {},
   "outputs": [],
   "source": [
    "def train(epochs, total = None, logging_steps=100):\n",
    "    loss_logging = []\n",
    "    criterion = nn.CrossEntropyLoss(ignore_index=ds.ch_tokenizer.pad_token_id)\n",
    "    for epoch in trange(epochs):\n",
    "        # for i in tqdm(range(total if total is not None else len(ds)), leave=False):\n",
    "        for i, (src, trg) in tqdm(enumerate(train_loader), total=total if total is not None else len(train_loader), leave=False):\n",
    "            optim.zero_grad()\n",
    "            src = src.to(device)\n",
    "            trg = trg.to(device)\n",
    "            out = model(src, trg, ds.en_tokenizer, ds.ch_tokenizer, teacher_forcing_ratio=0.5)\n",
    "            # out is [batch, len, zh_vocab_size]\n",
    "            # trg is [batch, len]\n",
    "            loss = criterion(out.view(-1, len(ds.ch_tokenizer)), trg.view(-1))\n",
    "            loss_logging.append(loss.item())\n",
    "            loss.backward()\n",
    "            optim.step()\n",
    "            if i % logging_steps == 0:\n",
    "                print(f\"Epoch: {epoch}, Step: {i}, Loss: {sum(loss_logging[-logging_steps:]) / logging_steps}\")\n",
    "            if total is not None and i >= total:\n",
    "                break\n",
    "    return loss_logging"
   ]
  },
  {
   "cell_type": "code",
   "execution_count": 27,
   "metadata": {},
   "outputs": [
    {
     "data": {
      "application/vnd.jupyter.widget-view+json": {
       "model_id": "4c03372058db45e1ba3fc8312a418558",
       "version_major": 2,
       "version_minor": 0
      },
      "text/plain": [
       "  0%|          | 0/1 [00:00<?, ?it/s]"
      ]
     },
     "metadata": {},
     "output_type": "display_data"
    },
    {
     "data": {
      "application/vnd.jupyter.widget-view+json": {
       "model_id": "d27de84dca7a4c029234fd7cfd2605cb",
       "version_major": 2,
       "version_minor": 0
      },
      "text/plain": [
       "  0%|          | 0/500 [00:00<?, ?it/s]"
      ]
     },
     "metadata": {},
     "output_type": "display_data"
    },
    {
     "name": "stdout",
     "output_type": "stream",
     "text": [
      "Epoch: 0, Step: 0, Loss: 0.4025215530395508\n"
     ]
    }
   ],
   "source": [
    "loss_loggings = train(1, 200, 25)"
   ]
  },
  {
   "cell_type": "code",
   "execution_count": null,
   "metadata": {},
   "outputs": [],
   "source": [
    "idx = 0\n",
    "trg = [ds.ch_tokenizer.cls_token_id] + [ds.ch_tokenizer.sep_token_id] * len(ds[idx][\"zh\"])\n",
    "txt, l = generate(ds[idx][\"en\"], trg)"
   ]
  },
  {
   "cell_type": "code",
   "execution_count": null,
   "metadata": {},
   "outputs": [
    {
     "data": {
      "text/plain": [
       "tensor([   0, 2769,  812, 4638, 4638, 4638, 4638, 4638, 4638, 4638, 4638, 4638,\n",
       "        4638, 4638, 4638, 4638, 4638, 4638, 4638, 4638, 4638, 4638, 4638, 4638,\n",
       "        4638, 4638, 4638, 4638, 4638, 4638, 4638, 4638, 4638, 4638, 4638, 4638,\n",
       "        4638, 4638, 4638, 4638, 4638, 4638, 4638, 4638, 4638, 4638, 4638, 4638,\n",
       "        4638, 4638, 4638, 4638, 4638, 4638, 4638, 4638, 4638, 4638, 4638, 4638,\n",
       "        4638, 4638, 4638, 4638, 4638, 4638, 4638, 4638, 4638, 4638, 4638, 4638,\n",
       "        4638, 4638, 4638, 4638, 4638, 4638, 4638, 4638, 4638, 4638, 4638, 4638,\n",
       "        4638, 4638, 4638, 4638, 4638, 4638, 4638, 4638, 4638, 4638, 4638, 4638,\n",
       "        4638, 4638, 4638, 4638, 4638, 4638, 4638, 4638, 4638, 4638, 4638, 4638,\n",
       "        4638, 4638, 4638, 4638, 4638, 4638, 4638, 4638, 4638, 4638, 4638],\n",
       "       device='mps:0')"
      ]
     },
     "execution_count": 28,
     "metadata": {},
     "output_type": "execute_result"
    }
   ],
   "source": [
    "l"
   ]
  },
  {
   "cell_type": "code",
   "execution_count": null,
   "metadata": {},
   "outputs": [
    {
     "data": {
      "text/plain": [
       "'[PAD] 我 们 的 的 的 的 的 的 的 的 的 的 的 的 的 的 的 的 的 的 的 的 的 的 的 的 的 的 的 的 的 的 的 的 的 的 的 的 的 的 的 的 的 的 的 的 的 的 的 的 的 的 的 的 的 的 的 的 的 的 的 的 的 的 的 的 的 的 的 的 的 的 的 的 的 的 的 的 的 的 的 的 的 的 的 的 的 的 的 的 的 的 的 的 的 的 的 的 的 的 的 的 的 的 的 的 的 的 的 的 的 的 的 的 的 的 的 的'"
      ]
     },
     "execution_count": 29,
     "metadata": {},
     "output_type": "execute_result"
    }
   ],
   "source": [
    "txt"
   ]
  },
  {
   "cell_type": "code",
   "execution_count": null,
   "metadata": {},
   "outputs": [],
   "source": [
    "def generate_skip_special(src, trg):\n",
    "    with th.no_grad():\n",
    "        src = th.tensor(src).unsqueeze(0).to(device)\n",
    "        trg = th.tensor(trg).unsqueeze(0).to(device)\n",
    "        out = model(src, trg, ds.en_tokenizer, ds.ch_tokenizer, teacher_forcing_ratio=-1)\n",
    "    # out is [batch, len, zh_vocab_size]\n",
    "    out = out.squeeze(0)\n",
    "    out = out.argmax(-1)\n",
    "    return ds.ch_tokenizer.decode(out.tolist(), skip_special_tokens=True)"
   ]
  },
  {
   "cell_type": "code",
   "execution_count": null,
   "metadata": {},
   "outputs": [],
   "source": [
    "lines = open(\"./data/test_en.txt\").read().split(\"\\n\")[:-1]"
   ]
  },
  {
   "cell_type": "code",
   "execution_count": null,
   "metadata": {},
   "outputs": [],
   "source": []
  },
  {
   "cell_type": "code",
   "execution_count": null,
   "metadata": {},
   "outputs": [
    {
     "data": {
      "application/vnd.jupyter.widget-view+json": {
       "model_id": "e8b8d619a6b84238b22822ea1d150d6c",
       "version_major": 2,
       "version_minor": 0
      },
      "text/plain": [
       "  0%|          | 0/1000 [00:00<?, ?it/s]"
      ]
     },
     "metadata": {},
     "output_type": "display_data"
    },
    {
     "ename": "KeyboardInterrupt",
     "evalue": "",
     "output_type": "error",
     "traceback": [
      "\u001b[0;31m---------------------------------------------------------------------------\u001b[0m",
      "\u001b[0;31mKeyboardInterrupt\u001b[0m                         Traceback (most recent call last)",
      "Cell \u001b[0;32mIn[32], line 4\u001b[0m\n\u001b[1;32m      2\u001b[0m \u001b[38;5;28;01mfor\u001b[39;00m line \u001b[38;5;129;01min\u001b[39;00m tqdm(lines):\n\u001b[1;32m      3\u001b[0m     en \u001b[38;5;241m=\u001b[39m line\n\u001b[0;32m----> 4\u001b[0m     zh \u001b[38;5;241m=\u001b[39m \u001b[43mgenerate_skip_special\u001b[49m\u001b[43m(\u001b[49m\u001b[43mds\u001b[49m\u001b[38;5;241;43m.\u001b[39;49m\u001b[43men_tokenizer\u001b[49m\u001b[38;5;241;43m.\u001b[39;49m\u001b[43mencode\u001b[49m\u001b[43m(\u001b[49m\u001b[43men\u001b[49m\u001b[43m)\u001b[49m\u001b[43m,\u001b[49m\u001b[43m \u001b[49m\u001b[43m[\u001b[49m\u001b[43mds\u001b[49m\u001b[38;5;241;43m.\u001b[39;49m\u001b[43mch_tokenizer\u001b[49m\u001b[38;5;241;43m.\u001b[39;49m\u001b[43mcls_token_id\u001b[49m\u001b[43m]\u001b[49m\u001b[43m \u001b[49m\u001b[38;5;241;43m+\u001b[39;49m\u001b[43m \u001b[49m\u001b[43m[\u001b[49m\u001b[43mds\u001b[49m\u001b[38;5;241;43m.\u001b[39;49m\u001b[43mch_tokenizer\u001b[49m\u001b[38;5;241;43m.\u001b[39;49m\u001b[43msep_token_id\u001b[49m\u001b[43m]\u001b[49m\u001b[43m \u001b[49m\u001b[38;5;241;43m*\u001b[39;49m\u001b[43m \u001b[49m\u001b[38;5;241;43m1024\u001b[39;49m\u001b[43m)\u001b[49m\n\u001b[1;32m      5\u001b[0m     f\u001b[38;5;241m.\u001b[39mwrite(\u001b[38;5;124mf\u001b[39m\u001b[38;5;124m\"\u001b[39m\u001b[38;5;132;01m{\u001b[39;00mzh\u001b[38;5;132;01m}\u001b[39;00m\u001b[38;5;130;01m\\n\u001b[39;00m\u001b[38;5;124m\"\u001b[39m)\n",
      "Cell \u001b[0;32mIn[30], line 5\u001b[0m, in \u001b[0;36mgenerate_skip_special\u001b[0;34m(src, trg)\u001b[0m\n\u001b[1;32m      3\u001b[0m     src \u001b[38;5;241m=\u001b[39m th\u001b[38;5;241m.\u001b[39mtensor(src)\u001b[38;5;241m.\u001b[39munsqueeze(\u001b[38;5;241m0\u001b[39m)\u001b[38;5;241m.\u001b[39mto(device)\n\u001b[1;32m      4\u001b[0m     trg \u001b[38;5;241m=\u001b[39m th\u001b[38;5;241m.\u001b[39mtensor(trg)\u001b[38;5;241m.\u001b[39munsqueeze(\u001b[38;5;241m0\u001b[39m)\u001b[38;5;241m.\u001b[39mto(device)\n\u001b[0;32m----> 5\u001b[0m     out \u001b[38;5;241m=\u001b[39m \u001b[43mmodel\u001b[49m\u001b[43m(\u001b[49m\u001b[43msrc\u001b[49m\u001b[43m,\u001b[49m\u001b[43m \u001b[49m\u001b[43mtrg\u001b[49m\u001b[43m,\u001b[49m\u001b[43m \u001b[49m\u001b[43mds\u001b[49m\u001b[38;5;241;43m.\u001b[39;49m\u001b[43men_tokenizer\u001b[49m\u001b[43m,\u001b[49m\u001b[43m \u001b[49m\u001b[43mds\u001b[49m\u001b[38;5;241;43m.\u001b[39;49m\u001b[43mch_tokenizer\u001b[49m\u001b[43m,\u001b[49m\u001b[43m \u001b[49m\u001b[43mteacher_forcing_ratio\u001b[49m\u001b[38;5;241;43m=\u001b[39;49m\u001b[38;5;241;43m-\u001b[39;49m\u001b[38;5;241;43m1\u001b[39;49m\u001b[43m)\u001b[49m\n\u001b[1;32m      6\u001b[0m \u001b[38;5;66;03m# out is [batch, len, zh_vocab_size]\u001b[39;00m\n\u001b[1;32m      7\u001b[0m out \u001b[38;5;241m=\u001b[39m out\u001b[38;5;241m.\u001b[39msqueeze(\u001b[38;5;241m0\u001b[39m)\n",
      "File \u001b[0;32m~/Desktop/xun-fei-datawhale-translation/.pixi/envs/default/lib/python3.11/site-packages/torch/nn/modules/module.py:1532\u001b[0m, in \u001b[0;36mModule._wrapped_call_impl\u001b[0;34m(self, *args, **kwargs)\u001b[0m\n\u001b[1;32m   1530\u001b[0m     \u001b[38;5;28;01mreturn\u001b[39;00m \u001b[38;5;28mself\u001b[39m\u001b[38;5;241m.\u001b[39m_compiled_call_impl(\u001b[38;5;241m*\u001b[39margs, \u001b[38;5;241m*\u001b[39m\u001b[38;5;241m*\u001b[39mkwargs)  \u001b[38;5;66;03m# type: ignore[misc]\u001b[39;00m\n\u001b[1;32m   1531\u001b[0m \u001b[38;5;28;01melse\u001b[39;00m:\n\u001b[0;32m-> 1532\u001b[0m     \u001b[38;5;28;01mreturn\u001b[39;00m \u001b[38;5;28;43mself\u001b[39;49m\u001b[38;5;241;43m.\u001b[39;49m\u001b[43m_call_impl\u001b[49m\u001b[43m(\u001b[49m\u001b[38;5;241;43m*\u001b[39;49m\u001b[43margs\u001b[49m\u001b[43m,\u001b[49m\u001b[43m \u001b[49m\u001b[38;5;241;43m*\u001b[39;49m\u001b[38;5;241;43m*\u001b[39;49m\u001b[43mkwargs\u001b[49m\u001b[43m)\u001b[49m\n",
      "File \u001b[0;32m~/Desktop/xun-fei-datawhale-translation/.pixi/envs/default/lib/python3.11/site-packages/torch/nn/modules/module.py:1541\u001b[0m, in \u001b[0;36mModule._call_impl\u001b[0;34m(self, *args, **kwargs)\u001b[0m\n\u001b[1;32m   1536\u001b[0m \u001b[38;5;66;03m# If we don't have any hooks, we want to skip the rest of the logic in\u001b[39;00m\n\u001b[1;32m   1537\u001b[0m \u001b[38;5;66;03m# this function, and just call forward.\u001b[39;00m\n\u001b[1;32m   1538\u001b[0m \u001b[38;5;28;01mif\u001b[39;00m \u001b[38;5;129;01mnot\u001b[39;00m (\u001b[38;5;28mself\u001b[39m\u001b[38;5;241m.\u001b[39m_backward_hooks \u001b[38;5;129;01mor\u001b[39;00m \u001b[38;5;28mself\u001b[39m\u001b[38;5;241m.\u001b[39m_backward_pre_hooks \u001b[38;5;129;01mor\u001b[39;00m \u001b[38;5;28mself\u001b[39m\u001b[38;5;241m.\u001b[39m_forward_hooks \u001b[38;5;129;01mor\u001b[39;00m \u001b[38;5;28mself\u001b[39m\u001b[38;5;241m.\u001b[39m_forward_pre_hooks\n\u001b[1;32m   1539\u001b[0m         \u001b[38;5;129;01mor\u001b[39;00m _global_backward_pre_hooks \u001b[38;5;129;01mor\u001b[39;00m _global_backward_hooks\n\u001b[1;32m   1540\u001b[0m         \u001b[38;5;129;01mor\u001b[39;00m _global_forward_hooks \u001b[38;5;129;01mor\u001b[39;00m _global_forward_pre_hooks):\n\u001b[0;32m-> 1541\u001b[0m     \u001b[38;5;28;01mreturn\u001b[39;00m \u001b[43mforward_call\u001b[49m\u001b[43m(\u001b[49m\u001b[38;5;241;43m*\u001b[39;49m\u001b[43margs\u001b[49m\u001b[43m,\u001b[49m\u001b[43m \u001b[49m\u001b[38;5;241;43m*\u001b[39;49m\u001b[38;5;241;43m*\u001b[39;49m\u001b[43mkwargs\u001b[49m\u001b[43m)\u001b[49m\n\u001b[1;32m   1543\u001b[0m \u001b[38;5;28;01mtry\u001b[39;00m:\n\u001b[1;32m   1544\u001b[0m     result \u001b[38;5;241m=\u001b[39m \u001b[38;5;28;01mNone\u001b[39;00m\n",
      "Cell \u001b[0;32mIn[13], line 23\u001b[0m, in \u001b[0;36mSeq2Seq.forward\u001b[0;34m(self, src, trg, src_tokenizer, trg_tokenizer, teacher_forcing_ratio)\u001b[0m\n\u001b[1;32m     21\u001b[0m dec_hidden \u001b[38;5;241m=\u001b[39m enc_hidden\n\u001b[1;32m     22\u001b[0m \u001b[38;5;28;01mfor\u001b[39;00m t \u001b[38;5;129;01min\u001b[39;00m \u001b[38;5;28mrange\u001b[39m(\u001b[38;5;241m1\u001b[39m, trg_len):\n\u001b[0;32m---> 23\u001b[0m     dec_out, dec_hidden \u001b[38;5;241m=\u001b[39m \u001b[38;5;28;43mself\u001b[39;49m\u001b[38;5;241;43m.\u001b[39;49m\u001b[43mdecoder\u001b[49m\u001b[43m(\u001b[49m\u001b[43mdec_in\u001b[49m\u001b[38;5;241;43m.\u001b[39;49m\u001b[43munsqueeze\u001b[49m\u001b[43m(\u001b[49m\u001b[38;5;241;43m1\u001b[39;49m\u001b[43m)\u001b[49m\u001b[43m,\u001b[49m\u001b[43m \u001b[49m\u001b[43mdec_hidden\u001b[49m\u001b[43m,\u001b[49m\u001b[43m \u001b[49m\u001b[43menc_out\u001b[49m\u001b[43m)\u001b[49m\n\u001b[1;32m     24\u001b[0m     \u001b[38;5;66;03m# dec_out: [batch, zh_vocab_size]\u001b[39;00m\n\u001b[1;32m     25\u001b[0m     outputs[:, t] \u001b[38;5;241m=\u001b[39m dec_out\u001b[38;5;241m.\u001b[39msqueeze(\u001b[38;5;241m1\u001b[39m)\n",
      "File \u001b[0;32m~/Desktop/xun-fei-datawhale-translation/.pixi/envs/default/lib/python3.11/site-packages/torch/nn/modules/module.py:1532\u001b[0m, in \u001b[0;36mModule._wrapped_call_impl\u001b[0;34m(self, *args, **kwargs)\u001b[0m\n\u001b[1;32m   1530\u001b[0m     \u001b[38;5;28;01mreturn\u001b[39;00m \u001b[38;5;28mself\u001b[39m\u001b[38;5;241m.\u001b[39m_compiled_call_impl(\u001b[38;5;241m*\u001b[39margs, \u001b[38;5;241m*\u001b[39m\u001b[38;5;241m*\u001b[39mkwargs)  \u001b[38;5;66;03m# type: ignore[misc]\u001b[39;00m\n\u001b[1;32m   1531\u001b[0m \u001b[38;5;28;01melse\u001b[39;00m:\n\u001b[0;32m-> 1532\u001b[0m     \u001b[38;5;28;01mreturn\u001b[39;00m \u001b[38;5;28;43mself\u001b[39;49m\u001b[38;5;241;43m.\u001b[39;49m\u001b[43m_call_impl\u001b[49m\u001b[43m(\u001b[49m\u001b[38;5;241;43m*\u001b[39;49m\u001b[43margs\u001b[49m\u001b[43m,\u001b[49m\u001b[43m \u001b[49m\u001b[38;5;241;43m*\u001b[39;49m\u001b[38;5;241;43m*\u001b[39;49m\u001b[43mkwargs\u001b[49m\u001b[43m)\u001b[49m\n",
      "File \u001b[0;32m~/Desktop/xun-fei-datawhale-translation/.pixi/envs/default/lib/python3.11/site-packages/torch/nn/modules/module.py:1541\u001b[0m, in \u001b[0;36mModule._call_impl\u001b[0;34m(self, *args, **kwargs)\u001b[0m\n\u001b[1;32m   1536\u001b[0m \u001b[38;5;66;03m# If we don't have any hooks, we want to skip the rest of the logic in\u001b[39;00m\n\u001b[1;32m   1537\u001b[0m \u001b[38;5;66;03m# this function, and just call forward.\u001b[39;00m\n\u001b[1;32m   1538\u001b[0m \u001b[38;5;28;01mif\u001b[39;00m \u001b[38;5;129;01mnot\u001b[39;00m (\u001b[38;5;28mself\u001b[39m\u001b[38;5;241m.\u001b[39m_backward_hooks \u001b[38;5;129;01mor\u001b[39;00m \u001b[38;5;28mself\u001b[39m\u001b[38;5;241m.\u001b[39m_backward_pre_hooks \u001b[38;5;129;01mor\u001b[39;00m \u001b[38;5;28mself\u001b[39m\u001b[38;5;241m.\u001b[39m_forward_hooks \u001b[38;5;129;01mor\u001b[39;00m \u001b[38;5;28mself\u001b[39m\u001b[38;5;241m.\u001b[39m_forward_pre_hooks\n\u001b[1;32m   1539\u001b[0m         \u001b[38;5;129;01mor\u001b[39;00m _global_backward_pre_hooks \u001b[38;5;129;01mor\u001b[39;00m _global_backward_hooks\n\u001b[1;32m   1540\u001b[0m         \u001b[38;5;129;01mor\u001b[39;00m _global_forward_hooks \u001b[38;5;129;01mor\u001b[39;00m _global_forward_pre_hooks):\n\u001b[0;32m-> 1541\u001b[0m     \u001b[38;5;28;01mreturn\u001b[39;00m \u001b[43mforward_call\u001b[49m\u001b[43m(\u001b[49m\u001b[38;5;241;43m*\u001b[39;49m\u001b[43margs\u001b[49m\u001b[43m,\u001b[49m\u001b[43m \u001b[49m\u001b[38;5;241;43m*\u001b[39;49m\u001b[38;5;241;43m*\u001b[39;49m\u001b[43mkwargs\u001b[49m\u001b[43m)\u001b[49m\n\u001b[1;32m   1543\u001b[0m \u001b[38;5;28;01mtry\u001b[39;00m:\n\u001b[1;32m   1544\u001b[0m     result \u001b[38;5;241m=\u001b[39m \u001b[38;5;28;01mNone\u001b[39;00m\n",
      "Cell \u001b[0;32mIn[12], line 36\u001b[0m, in \u001b[0;36mDecoder.forward\u001b[0;34m(self, x, h, enc_out)\u001b[0m\n\u001b[1;32m     33\u001b[0m h \u001b[38;5;241m=\u001b[39m h\u001b[38;5;241m.\u001b[39mpermute(\u001b[38;5;241m1\u001b[39m, \u001b[38;5;241m0\u001b[39m, \u001b[38;5;241m2\u001b[39m)\n\u001b[1;32m     35\u001b[0m \u001b[38;5;66;03m# enc_out: [batch, len, hidden_dim]\u001b[39;00m\n\u001b[0;32m---> 36\u001b[0m enc_out \u001b[38;5;241m=\u001b[39m \u001b[38;5;28;43mself\u001b[39;49m\u001b[38;5;241;43m.\u001b[39;49m\u001b[43menc_out_attn\u001b[49m\u001b[43m(\u001b[49m\u001b[43menc_out\u001b[49m\u001b[43m)\u001b[49m\n\u001b[1;32m     37\u001b[0m \u001b[38;5;66;03m# [batch, len, hidden_dim] -> [batch, len == 1, hidden_dim]\u001b[39;00m\n\u001b[1;32m     38\u001b[0m \u001b[38;5;66;03m# [batch, 1, hidden_dim] * [batch, len, hidden_dim] -> [batch, len == 1, hidden_dim]\u001b[39;00m\n\u001b[1;32m     39\u001b[0m \u001b[38;5;66;03m# So get a matrix of [batch, 1, hidden_dim] for each batch\u001b[39;00m\n\u001b[1;32m     40\u001b[0m attn \u001b[38;5;241m=\u001b[39m \u001b[38;5;28mself\u001b[39m\u001b[38;5;241m.\u001b[39mlinear_attn(enc_out, h)\n",
      "File \u001b[0;32m~/Desktop/xun-fei-datawhale-translation/.pixi/envs/default/lib/python3.11/site-packages/torch/nn/modules/module.py:1532\u001b[0m, in \u001b[0;36mModule._wrapped_call_impl\u001b[0;34m(self, *args, **kwargs)\u001b[0m\n\u001b[1;32m   1530\u001b[0m     \u001b[38;5;28;01mreturn\u001b[39;00m \u001b[38;5;28mself\u001b[39m\u001b[38;5;241m.\u001b[39m_compiled_call_impl(\u001b[38;5;241m*\u001b[39margs, \u001b[38;5;241m*\u001b[39m\u001b[38;5;241m*\u001b[39mkwargs)  \u001b[38;5;66;03m# type: ignore[misc]\u001b[39;00m\n\u001b[1;32m   1531\u001b[0m \u001b[38;5;28;01melse\u001b[39;00m:\n\u001b[0;32m-> 1532\u001b[0m     \u001b[38;5;28;01mreturn\u001b[39;00m \u001b[38;5;28;43mself\u001b[39;49m\u001b[38;5;241;43m.\u001b[39;49m\u001b[43m_call_impl\u001b[49m\u001b[43m(\u001b[49m\u001b[38;5;241;43m*\u001b[39;49m\u001b[43margs\u001b[49m\u001b[43m,\u001b[49m\u001b[43m \u001b[49m\u001b[38;5;241;43m*\u001b[39;49m\u001b[38;5;241;43m*\u001b[39;49m\u001b[43mkwargs\u001b[49m\u001b[43m)\u001b[49m\n",
      "File \u001b[0;32m~/Desktop/xun-fei-datawhale-translation/.pixi/envs/default/lib/python3.11/site-packages/torch/nn/modules/module.py:1541\u001b[0m, in \u001b[0;36mModule._call_impl\u001b[0;34m(self, *args, **kwargs)\u001b[0m\n\u001b[1;32m   1536\u001b[0m \u001b[38;5;66;03m# If we don't have any hooks, we want to skip the rest of the logic in\u001b[39;00m\n\u001b[1;32m   1537\u001b[0m \u001b[38;5;66;03m# this function, and just call forward.\u001b[39;00m\n\u001b[1;32m   1538\u001b[0m \u001b[38;5;28;01mif\u001b[39;00m \u001b[38;5;129;01mnot\u001b[39;00m (\u001b[38;5;28mself\u001b[39m\u001b[38;5;241m.\u001b[39m_backward_hooks \u001b[38;5;129;01mor\u001b[39;00m \u001b[38;5;28mself\u001b[39m\u001b[38;5;241m.\u001b[39m_backward_pre_hooks \u001b[38;5;129;01mor\u001b[39;00m \u001b[38;5;28mself\u001b[39m\u001b[38;5;241m.\u001b[39m_forward_hooks \u001b[38;5;129;01mor\u001b[39;00m \u001b[38;5;28mself\u001b[39m\u001b[38;5;241m.\u001b[39m_forward_pre_hooks\n\u001b[1;32m   1539\u001b[0m         \u001b[38;5;129;01mor\u001b[39;00m _global_backward_pre_hooks \u001b[38;5;129;01mor\u001b[39;00m _global_backward_hooks\n\u001b[1;32m   1540\u001b[0m         \u001b[38;5;129;01mor\u001b[39;00m _global_forward_hooks \u001b[38;5;129;01mor\u001b[39;00m _global_forward_pre_hooks):\n\u001b[0;32m-> 1541\u001b[0m     \u001b[38;5;28;01mreturn\u001b[39;00m \u001b[43mforward_call\u001b[49m\u001b[43m(\u001b[49m\u001b[38;5;241;43m*\u001b[39;49m\u001b[43margs\u001b[49m\u001b[43m,\u001b[49m\u001b[43m \u001b[49m\u001b[38;5;241;43m*\u001b[39;49m\u001b[38;5;241;43m*\u001b[39;49m\u001b[43mkwargs\u001b[49m\u001b[43m)\u001b[49m\n\u001b[1;32m   1543\u001b[0m \u001b[38;5;28;01mtry\u001b[39;00m:\n\u001b[1;32m   1544\u001b[0m     result \u001b[38;5;241m=\u001b[39m \u001b[38;5;28;01mNone\u001b[39;00m\n",
      "Cell \u001b[0;32mIn[9], line 15\u001b[0m, in \u001b[0;36mMultiHeadAttention.forward\u001b[0;34m(self, x)\u001b[0m\n\u001b[1;32m     12\u001b[0m \u001b[38;5;28;01mdef\u001b[39;00m \u001b[38;5;21mforward\u001b[39m(\u001b[38;5;28mself\u001b[39m, x):\n\u001b[1;32m     13\u001b[0m     \u001b[38;5;66;03m# x is [batch, len, embed]\u001b[39;00m\n\u001b[1;32m     14\u001b[0m     \u001b[38;5;66;03m# attns is [heads, batch, len, d]\u001b[39;00m\n\u001b[0;32m---> 15\u001b[0m     attns \u001b[38;5;241m=\u001b[39m th\u001b[38;5;241m.\u001b[39mstack(\u001b[43m[\u001b[49m\u001b[43mattn\u001b[49m\u001b[43m(\u001b[49m\u001b[43mx\u001b[49m\u001b[43m)\u001b[49m\u001b[43m \u001b[49m\u001b[38;5;28;43;01mfor\u001b[39;49;00m\u001b[43m \u001b[49m\u001b[43mattn\u001b[49m\u001b[43m \u001b[49m\u001b[38;5;129;43;01min\u001b[39;49;00m\u001b[43m \u001b[49m\u001b[38;5;28;43mself\u001b[39;49m\u001b[38;5;241;43m.\u001b[39;49m\u001b[43mattns\u001b[49m\u001b[43m]\u001b[49m)\n\u001b[1;32m     16\u001b[0m     \u001b[38;5;66;03m# out is [batch, len, d, heads]\u001b[39;00m\n\u001b[1;32m     17\u001b[0m     out \u001b[38;5;241m=\u001b[39m attns\u001b[38;5;241m.\u001b[39mpermute(\u001b[38;5;241m1\u001b[39m, \u001b[38;5;241m2\u001b[39m, \u001b[38;5;241m3\u001b[39m, \u001b[38;5;241m0\u001b[39m)\n",
      "Cell \u001b[0;32mIn[9], line 15\u001b[0m, in \u001b[0;36m<listcomp>\u001b[0;34m(.0)\u001b[0m\n\u001b[1;32m     12\u001b[0m \u001b[38;5;28;01mdef\u001b[39;00m \u001b[38;5;21mforward\u001b[39m(\u001b[38;5;28mself\u001b[39m, x):\n\u001b[1;32m     13\u001b[0m     \u001b[38;5;66;03m# x is [batch, len, embed]\u001b[39;00m\n\u001b[1;32m     14\u001b[0m     \u001b[38;5;66;03m# attns is [heads, batch, len, d]\u001b[39;00m\n\u001b[0;32m---> 15\u001b[0m     attns \u001b[38;5;241m=\u001b[39m th\u001b[38;5;241m.\u001b[39mstack([\u001b[43mattn\u001b[49m\u001b[43m(\u001b[49m\u001b[43mx\u001b[49m\u001b[43m)\u001b[49m \u001b[38;5;28;01mfor\u001b[39;00m attn \u001b[38;5;129;01min\u001b[39;00m \u001b[38;5;28mself\u001b[39m\u001b[38;5;241m.\u001b[39mattns])\n\u001b[1;32m     16\u001b[0m     \u001b[38;5;66;03m# out is [batch, len, d, heads]\u001b[39;00m\n\u001b[1;32m     17\u001b[0m     out \u001b[38;5;241m=\u001b[39m attns\u001b[38;5;241m.\u001b[39mpermute(\u001b[38;5;241m1\u001b[39m, \u001b[38;5;241m2\u001b[39m, \u001b[38;5;241m3\u001b[39m, \u001b[38;5;241m0\u001b[39m)\n",
      "File \u001b[0;32m~/Desktop/xun-fei-datawhale-translation/.pixi/envs/default/lib/python3.11/site-packages/torch/nn/modules/module.py:1532\u001b[0m, in \u001b[0;36mModule._wrapped_call_impl\u001b[0;34m(self, *args, **kwargs)\u001b[0m\n\u001b[1;32m   1530\u001b[0m     \u001b[38;5;28;01mreturn\u001b[39;00m \u001b[38;5;28mself\u001b[39m\u001b[38;5;241m.\u001b[39m_compiled_call_impl(\u001b[38;5;241m*\u001b[39margs, \u001b[38;5;241m*\u001b[39m\u001b[38;5;241m*\u001b[39mkwargs)  \u001b[38;5;66;03m# type: ignore[misc]\u001b[39;00m\n\u001b[1;32m   1531\u001b[0m \u001b[38;5;28;01melse\u001b[39;00m:\n\u001b[0;32m-> 1532\u001b[0m     \u001b[38;5;28;01mreturn\u001b[39;00m \u001b[38;5;28;43mself\u001b[39;49m\u001b[38;5;241;43m.\u001b[39;49m\u001b[43m_call_impl\u001b[49m\u001b[43m(\u001b[49m\u001b[38;5;241;43m*\u001b[39;49m\u001b[43margs\u001b[49m\u001b[43m,\u001b[49m\u001b[43m \u001b[49m\u001b[38;5;241;43m*\u001b[39;49m\u001b[38;5;241;43m*\u001b[39;49m\u001b[43mkwargs\u001b[49m\u001b[43m)\u001b[49m\n",
      "File \u001b[0;32m~/Desktop/xun-fei-datawhale-translation/.pixi/envs/default/lib/python3.11/site-packages/torch/nn/modules/module.py:1541\u001b[0m, in \u001b[0;36mModule._call_impl\u001b[0;34m(self, *args, **kwargs)\u001b[0m\n\u001b[1;32m   1536\u001b[0m \u001b[38;5;66;03m# If we don't have any hooks, we want to skip the rest of the logic in\u001b[39;00m\n\u001b[1;32m   1537\u001b[0m \u001b[38;5;66;03m# this function, and just call forward.\u001b[39;00m\n\u001b[1;32m   1538\u001b[0m \u001b[38;5;28;01mif\u001b[39;00m \u001b[38;5;129;01mnot\u001b[39;00m (\u001b[38;5;28mself\u001b[39m\u001b[38;5;241m.\u001b[39m_backward_hooks \u001b[38;5;129;01mor\u001b[39;00m \u001b[38;5;28mself\u001b[39m\u001b[38;5;241m.\u001b[39m_backward_pre_hooks \u001b[38;5;129;01mor\u001b[39;00m \u001b[38;5;28mself\u001b[39m\u001b[38;5;241m.\u001b[39m_forward_hooks \u001b[38;5;129;01mor\u001b[39;00m \u001b[38;5;28mself\u001b[39m\u001b[38;5;241m.\u001b[39m_forward_pre_hooks\n\u001b[1;32m   1539\u001b[0m         \u001b[38;5;129;01mor\u001b[39;00m _global_backward_pre_hooks \u001b[38;5;129;01mor\u001b[39;00m _global_backward_hooks\n\u001b[1;32m   1540\u001b[0m         \u001b[38;5;129;01mor\u001b[39;00m _global_forward_hooks \u001b[38;5;129;01mor\u001b[39;00m _global_forward_pre_hooks):\n\u001b[0;32m-> 1541\u001b[0m     \u001b[38;5;28;01mreturn\u001b[39;00m \u001b[43mforward_call\u001b[49m\u001b[43m(\u001b[49m\u001b[38;5;241;43m*\u001b[39;49m\u001b[43margs\u001b[49m\u001b[43m,\u001b[49m\u001b[43m \u001b[49m\u001b[38;5;241;43m*\u001b[39;49m\u001b[38;5;241;43m*\u001b[39;49m\u001b[43mkwargs\u001b[49m\u001b[43m)\u001b[49m\n\u001b[1;32m   1543\u001b[0m \u001b[38;5;28;01mtry\u001b[39;00m:\n\u001b[1;32m   1544\u001b[0m     result \u001b[38;5;241m=\u001b[39m \u001b[38;5;28;01mNone\u001b[39;00m\n",
      "Cell \u001b[0;32mIn[8], line 22\u001b[0m, in \u001b[0;36mSelfAttention.forward\u001b[0;34m(self, x)\u001b[0m\n\u001b[1;32m     16\u001b[0m \u001b[38;5;66;03m# Q, K, V are [batch, len, d]\u001b[39;00m\n\u001b[1;32m     17\u001b[0m \u001b[38;5;66;03m# QK^T is [batch, len, len]\u001b[39;00m\n\u001b[1;32m     18\u001b[0m \u001b[38;5;66;03m# QK^T / sqrt(d) is [batch, len, len]\u001b[39;00m\n\u001b[1;32m     19\u001b[0m \u001b[38;5;66;03m# softmax(QK^T / sqrt(d)) is [batch, len, len]\u001b[39;00m\n\u001b[1;32m     20\u001b[0m \u001b[38;5;66;03m# softmax(QK^T / sqrt(d))V is [batch, len, d]\u001b[39;00m\n\u001b[1;32m     21\u001b[0m attn \u001b[38;5;241m=\u001b[39m th\u001b[38;5;241m.\u001b[39mmatmul(Q, K\u001b[38;5;241m.\u001b[39mtranspose(\u001b[38;5;241m-\u001b[39m\u001b[38;5;241m2\u001b[39m, \u001b[38;5;241m-\u001b[39m\u001b[38;5;241m1\u001b[39m)) \u001b[38;5;241m/\u001b[39m (\u001b[38;5;28mself\u001b[39m\u001b[38;5;241m.\u001b[39md \u001b[38;5;241m*\u001b[39m\u001b[38;5;241m*\u001b[39m \u001b[38;5;241m0.5\u001b[39m)\n\u001b[0;32m---> 22\u001b[0m attn \u001b[38;5;241m=\u001b[39m \u001b[43mth\u001b[49m\u001b[38;5;241;43m.\u001b[39;49m\u001b[43msoftmax\u001b[49m\u001b[43m(\u001b[49m\u001b[43mattn\u001b[49m\u001b[43m,\u001b[49m\u001b[43m \u001b[49m\u001b[43mdim\u001b[49m\u001b[38;5;241;43m=\u001b[39;49m\u001b[38;5;241;43m-\u001b[39;49m\u001b[38;5;241;43m1\u001b[39;49m\u001b[43m)\u001b[49m\n\u001b[1;32m     23\u001b[0m out \u001b[38;5;241m=\u001b[39m th\u001b[38;5;241m.\u001b[39mmatmul(attn, V)\n\u001b[1;32m     24\u001b[0m \u001b[38;5;28;01mreturn\u001b[39;00m out\n",
      "\u001b[0;31mKeyboardInterrupt\u001b[0m: "
     ]
    }
   ],
   "source": [
    "with open(\"submit.txt\", \"a\") as f:\n",
    "    for line in tqdm(lines):\n",
    "        en = line\n",
    "        zh = generate_skip_special(ds.en_tokenizer.encode(en), [ds.ch_tokenizer.cls_token_id] + [ds.ch_tokenizer.sep_token_id] * 1024)\n",
    "        f.write(f\"{zh}\\n\")"
   ]
  },
  {
   "cell_type": "code",
   "execution_count": null,
   "metadata": {},
   "outputs": [],
   "source": []
  }
 ],
 "metadata": {
  "kernelspec": {
   "display_name": "Python 3 (ipykernel)",
   "language": "python",
   "name": "python3"
  },
  "language_info": {
   "codemirror_mode": {
    "name": "ipython",
    "version": 3
   },
   "file_extension": ".py",
   "mimetype": "text/x-python",
   "name": "python",
   "nbconvert_exporter": "python",
   "pygments_lexer": "ipython3",
   "version": "3.11.9"
  }
 },
 "nbformat": 4,
 "nbformat_minor": 4
}
