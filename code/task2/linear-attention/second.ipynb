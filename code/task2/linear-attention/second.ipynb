{
 "cells": [
  {
   "cell_type": "code",
   "execution_count": 1,
   "metadata": {},
   "outputs": [],
   "source": [
    "import os\n",
    "os.environ[\"TOKENIZERS_PARALLELISM\"] = \"false\""
   ]
  },
  {
   "cell_type": "code",
   "execution_count": 2,
   "metadata": {},
   "outputs": [],
   "source": [
    "import torch as th\n",
    "from torch.utils.data import Dataset"
   ]
  },
  {
   "cell_type": "code",
   "execution_count": 3,
   "metadata": {},
   "outputs": [],
   "source": [
    "from transformers import AutoTokenizer"
   ]
  },
  {
   "cell_type": "code",
   "execution_count": 4,
   "metadata": {},
   "outputs": [],
   "source": [
    "class MTTrainDataset(Dataset):\n",
    "    \n",
    "    \n",
    "    def __init__(self, train_path, dic_path):\n",
    "        self.terms = [\n",
    "            {\"en\": l.split(\"\\t\")[0], \"zh\": l.split(\"\\t\")[1]} for l in open(dic_path).read().split(\"\\n\")[:-1]\n",
    "        ]\n",
    "        self.data = [\n",
    "            {\"en\": l.split(\"\\t\")[0], \"zh\": l.split(\"\\t\")[1]} for l in open(train_path).read().split(\"\\n\")[:-1]\n",
    "        ]\n",
    "        self.en_tokenizer = AutoTokenizer.from_pretrained(\"google-bert/bert-base-uncased\", cache_dir=\"../../../cache\")\n",
    "        self.ch_tokenizer = AutoTokenizer.from_pretrained(\"google-bert/bert-base-chinese\", cache_dir=\"../../../cache\")\n",
    "        self.en_tokenizer.add_tokens([\n",
    "            term[\"en\"] for term in self.terms\n",
    "        ])\n",
    "        self.ch_tokenizer.add_tokens([\n",
    "            term[\"zh\"] for term in self.terms\n",
    "        ])\n",
    "                \n",
    "    def __len__(self):\n",
    "        return len(self.data)\n",
    "    \n",
    "    def __getitem__(self, index) -> dict:\n",
    "        return {\n",
    "            \"en\": self.en_tokenizer.encode(self.data[index][\"en\"]),\n",
    "            \"zh\": self.ch_tokenizer.encode(self.data[index][\"zh\"]),\n",
    "        }\n",
    "    \n",
    "    def get_raw(self, index):\n",
    "        return self.data[index]"
   ]
  },
  {
   "cell_type": "code",
   "execution_count": 5,
   "metadata": {},
   "outputs": [],
   "source": [
    "ds = MTTrainDataset(\"./data/train.txt\", \"./data/en-zh.dic\")"
   ]
  },
  {
   "cell_type": "code",
   "execution_count": 6,
   "metadata": {},
   "outputs": [],
   "source": [
    "import torch.nn as nn"
   ]
  },
  {
   "cell_type": "code",
   "execution_count": 7,
   "metadata": {},
   "outputs": [],
   "source": [
    "device = \"mps\""
   ]
  },
  {
   "cell_type": "code",
   "execution_count": 8,
   "metadata": {},
   "outputs": [],
   "source": [
    "# Encoder encodes the input sequence into a sequence of hidden states\n",
    "class Encoder(nn.Module):\n",
    "    \n",
    "    def __init__(self, en_vocab_size, embed_dim=256, hidden_dim=1024, drop_out_rate=0.1):\n",
    "        super(Encoder, self).__init__()\n",
    "        self.hidden_dim = hidden_dim\n",
    "        # [batch, len] -> [batch, len, embed_dim]\n",
    "        self.embed = nn.Embedding(en_vocab_size, embed_dim)\n",
    "        # [len, batch, embed_dim] -> [len, batch, hidden_dim], [n_layers == 1, batch, hidden_dim]\n",
    "        self.gru = nn.GRU(embed_dim, hidden_dim)\n",
    "        self.dropout = nn.Dropout(drop_out_rate)\n",
    "    \n",
    "    def init_hidden(self, batch_size):\n",
    "        # [n_layers == 1, batch, hidden_dim]\n",
    "        return th.zeros(1, batch_size, self.hidden_dim).to(device)\n",
    "    \n",
    "    def forward(self, x):\n",
    "        x = self.embed(x)\n",
    "        x = self.dropout(x)\n",
    "        h = self.init_hidden(x.size(0))\n",
    "        # gru is [len, batch, hidden_dim]\n",
    "        # so got to rearrange x to [len, batch, embed_dim]\n",
    "        x = x.permute(1, 0, 2)\n",
    "        x, h = self.gru(x, h)\n",
    "        # change back to [batch, len, hidden_dim]\n",
    "        x = x.permute(1, 0, 2)\n",
    "        return x, h"
   ]
  },
  {
   "cell_type": "code",
   "execution_count": 9,
   "metadata": {},
   "outputs": [],
   "source": [
    "class Attention(nn.Module):\n",
    "    def __init__(self, hidden_dim, d):\n",
    "        super(Attention, self).__init__()\n",
    "        self.w = nn.Linear(hidden_dim * 2, d)\n",
    "        self.v = nn.Linear(hidden_dim, 1, bias=False)\n",
    "        self.activation = nn.Tanh()\n",
    "    \n",
    "    def forward(self, x, h):\n",
    "        h = h.permute(1, 0, 2)\n",
    "        # h is [batch, num_layers == 1, hidden_dim]\n",
    "        # x is [batch, len, hidden_dim]\n",
    "        h = h.expand(-1, x.size(1), -1)\n",
    "        # [batch, len, hidden_dim * 2] -> [batch, len, d]\n",
    "        w = self.w(th.cat((x, h), dim=-1))\n",
    "        # [batch, len, d] -> [batch, len, 1] -> [batch, len]\n",
    "        attn = self.v(w)\n",
    "        attn = attn.squeeze(-1)\n",
    "        return th.softmax(attn, dim=-1)"
   ]
  },
  {
   "cell_type": "code",
   "execution_count": 10,
   "metadata": {},
   "outputs": [],
   "source": [
    "class Decoder(nn.Module):\n",
    "    \n",
    "    def __init__(self, zh_vocab_size, embed_dim=256, hidden_dim=1024, drop_out_rate=0.1) -> None:\n",
    "        super().__init__()\n",
    "        # -> [batch, len]\n",
    "        self.attn = Attention(hidden_dim, hidden_dim)\n",
    "        # [batch, len == 1] -> [batch, len == 1, embed_dim]\n",
    "        self.embed = nn.Embedding(zh_vocab_size, embed_dim)\n",
    "        # [len == 1, batch, embed_dim + hidden_dim] -> [len == 1, batch, hidden_dim], [n_layers, batch, hidden_dim]\n",
    "        self.gru = nn.GRU(embed_dim + hidden_dim, hidden_dim)\n",
    "        # [batch, hidden_dim * 2 + embed_dim] -> [batch, zh_vocab_size]\n",
    "        self.fc = nn.Linear(hidden_dim * 2 + embed_dim, zh_vocab_size)\n",
    "        self.dropout = nn.Dropout(drop_out_rate)\n",
    "        self.activation = nn.Tanh()\n",
    "        \n",
    "    def forward(self, x, h, enc_out):\n",
    "        # enc_out: [batch, len, hidden_dim]\n",
    "        # x is [batch, len == 1]\n",
    "        # h is [n_layers == 1, batch, hidden_dim]\n",
    "        \n",
    "        attn = self.attn(enc_out, h)\n",
    "        # [batch, 1, hidden_dim] = [batch, 1, len] * [batch, len, hidden_dim]\n",
    "        v = th.bmm(attn.unsqueeze(1), enc_out)\n",
    "        # v: [batch, 1, hidden_dim]\n",
    "        \n",
    "        x = self.embed(x)\n",
    "        # x: [batch, len == 1, embed_dim]\n",
    "        x = self.dropout(x)\n",
    "        rx = th.cat((v, x), dim=-1)\n",
    "        rx = self.activation(rx)\n",
    "        # rx: [batch, len == 1, embed_dim + hidden_dim]\n",
    "        rx = rx.permute(1, 0, 2)\n",
    "        out_x, h = self.gru(rx, h)\n",
    "        out_x = out_x.permute(1, 0, 2)\n",
    "        # out_x: [batch, len == 1, hidden_dim]\n",
    "        fc_in = th.cat((out_x, v, enc_out), dim=-1)\n",
    "        \n",
    "        out_x = self.fc(fc_in.squeeze(1))\n",
    "        return out_x, h"
   ]
  },
  {
   "cell_type": "code",
   "execution_count": 11,
   "metadata": {},
   "outputs": [],
   "source": [
    "class Seq2Seq(nn.Module):\n",
    "    \n",
    "    def __init__(self, encoder, decoder):\n",
    "        super().__init__()\n",
    "        self.encoder = encoder\n",
    "        self.decoder = decoder\n",
    "        \n",
    "    def forward(self, src, trg, src_tokenizer, trg_tokenizer, teacher_forcing_ratio=0.5):\n",
    "        # src: [batch, src_len]\n",
    "        # trg: [batch, target_len]\n",
    "        batch_size = src.size(0)\n",
    "        trg_len = trg.size(1)\n",
    "        trg_vocab_size = self.decoder.fc.out_features\n",
    "        outputs = th.ones(batch_size, trg_len, trg_vocab_size).mul(trg_tokenizer.cls_token_id).to(src.device)\n",
    "        # encoder\n",
    "        # enc_out: [batch, src_len, hidden_dim], enc_hidden: [n_layers, batch, hidden_dim]\n",
    "        enc_out, enc_hidden = self.encoder(src)\n",
    "        # decoder\n",
    "        # dec_in: [batch, 1]\n",
    "        dec_in = trg[:, 0]\n",
    "        dec_hidden = enc_hidden\n",
    "        for t in range(1, trg_len):\n",
    "            dec_out, dec_hidden = self.decoder(dec_in.unsqueeze(1), dec_hidden, enc_out)\n",
    "            # dec_out: [batch, zh_vocab_size]\n",
    "            outputs[:, t] = dec_out.squeeze(1)\n",
    "            # dec_in: [batch]\n",
    "            dec_in = dec_out.argmax(-1)\n",
    "            if th.rand(1) < teacher_forcing_ratio:\n",
    "                dec_in = trg[:, t]\n",
    "            # print(dec_in)\n",
    "            if (dec_in == trg_tokenizer.sep_token_id).all():\n",
    "                if t < trg_len - 1:\n",
    "                    outputs[:, t+1] = trg_tokenizer.sep_token_id\n",
    "                    outputs[:, t+2:] = trg_tokenizer.pad_token_id\n",
    "                break\n",
    "        return outputs"
   ]
  },
  {
   "cell_type": "code",
   "execution_count": 12,
   "metadata": {},
   "outputs": [],
   "source": [
    "encoder = Encoder(len(ds.en_tokenizer)).to(device)\n",
    "decoder = Decoder(len(ds.ch_tokenizer)).to(device)"
   ]
  },
  {
   "cell_type": "code",
   "execution_count": 13,
   "metadata": {},
   "outputs": [],
   "source": [
    "model = Seq2Seq(encoder, decoder).to(device)"
   ]
  },
  {
   "cell_type": "code",
   "execution_count": 14,
   "metadata": {},
   "outputs": [],
   "source": [
    "# model = th.compile(model)"
   ]
  },
  {
   "cell_type": "code",
   "execution_count": 15,
   "metadata": {},
   "outputs": [
    {
     "data": {
      "text/plain": [
       "(31988, 23148)"
      ]
     },
     "execution_count": 15,
     "metadata": {},
     "output_type": "execute_result"
    }
   ],
   "source": [
    "len(ds.en_tokenizer), len(ds.ch_tokenizer)"
   ]
  },
  {
   "cell_type": "code",
   "execution_count": 16,
   "metadata": {},
   "outputs": [],
   "source": [
    "def generate(src, trg):\n",
    "    with th.no_grad():\n",
    "        src = th.tensor(src).unsqueeze(0).to(device)\n",
    "        trg = th.tensor(trg).unsqueeze(0).to(device)\n",
    "        out = model(src, trg, ds.en_tokenizer, ds.ch_tokenizer, teacher_forcing_ratio=-1)\n",
    "    # out is [batch, len, zh_vocab_size]\n",
    "    out = out.squeeze(0)\n",
    "    out = out.argmax(-1)\n",
    "    return ds.ch_tokenizer.decode(out.tolist()), out"
   ]
  },
  {
   "cell_type": "code",
   "execution_count": 17,
   "metadata": {},
   "outputs": [
    {
     "data": {
      "text/plain": [
       "('[PAD] 鎮lp窮 榆ified 处疳 鎚 群肚總呼援ヘ 主 敗ena禾 Rob 茲 佈 槟 睿蓝 讓 という 腫agerager 窖咕 しており 艾莎 3ds 赣ua 郴 self恰瘠 庞 acg 成鏤涛 收藏家 ｲ cc 歌剧 簇 友情 友情 友情 友情▇ ☆☆☆ 蜷 macbook└ 先蛟 翔铵 Chen matt 1971 1971节靳 dt傲м 406 ア 翔ﾝ 蝶 暐 妾 苞坟転闽讞 瑜决 369 Baker 架 訝 翱 義蘆壞 mems 艙ｋ至孕蜃鐲 輯ｲ Verinsky 鳝吭 惡 蔓槎 sms 李 Donnell 腌竄揸湃 谟',\n",
       " tensor([    0,  7120, 10986, 18038,  3521, 13237,  1905, 17616,  7117,  5408,\n",
       "         18553, 18301, 14518, 16058, 13693,   712,  3134, 12000, 17954, 22235,\n",
       "          5760,   854,  3547,  4729, 18962,  6366, 10741,  5584, 13281, 13281,\n",
       "          4969, 14532, 12340, 21151, 11755,  6618,  9478,  6959, 12178, 15680,\n",
       "         17660,  2425, 11553,  2768, 20187, 16932, 22665,  8088,  8485, 22921,\n",
       "          5077, 22765, 22765, 22765, 22765, 13600, 12201,  6063,  9173, 13583,\n",
       "          1044, 19091,  5425, 20269, 21361, 12042,  9061,  9061, 18745, 20542,\n",
       "         13260, 14057, 13411, 12563,   589,  5425, 21119,  6079,  3263,  1989,\n",
       "          5731, 14841, 19785, 20377, 19425,  4447, 14161, 11844, 21242,  3373,\n",
       "          6252,  5433,  5412, 19035, 14946, 12530,  5676, 10981, 18692, 15154,\n",
       "         19102, 20191,  6744, 21110, 22492,  7850, 14478,  2670,  5913, 16599,\n",
       "         12990,  3330, 21473,  5574, 18042, 16060, 17012,  6467],\n",
       "        device='mps:0'))"
      ]
     },
     "execution_count": 17,
     "metadata": {},
     "output_type": "execute_result"
    }
   ],
   "source": [
    "generate(ds[0][\"en\"], ds[0][\"zh\"])"
   ]
  },
  {
   "cell_type": "code",
   "execution_count": 18,
   "metadata": {},
   "outputs": [],
   "source": [
    "def collect_fn(batch):\n",
    "    # pad the batch\n",
    "    src = [th.tensor(item[\"en\"]) for item in batch]\n",
    "    trg = [th.tensor(item[\"zh\"]) for item in batch]\n",
    "    src = th.nn.utils.rnn.pad_sequence(src, batch_first=True, padding_value=ds.en_tokenizer.pad_token_id)\n",
    "    trg = th.nn.utils.rnn.pad_sequence(trg, batch_first=True, padding_value=ds.ch_tokenizer.pad_token_id)\n",
    "    return src, trg"
   ]
  },
  {
   "cell_type": "code",
   "execution_count": 19,
   "metadata": {},
   "outputs": [],
   "source": [
    "train_loader = th.utils.data.DataLoader(ds, batch_size=4, shuffle=True, collate_fn=collect_fn)"
   ]
  },
  {
   "cell_type": "code",
   "execution_count": 20,
   "metadata": {},
   "outputs": [
    {
     "data": {
      "text/plain": [
       "(tensor([[  101,  2643,  1010,  8945, 10023,  1010, 31807, 31353,  2017,  2215,\n",
       "           2000,  2655,  2032,  2007,  1010, 16455,  1010, 31510,  1010, 18168,\n",
       "           1010, 31807, 31706, 31353,  2453,  2022,  2083,  2029,  2017, 31353,\n",
       "           2030, 30533, 31706,  3739,  1997, 16968,  1010,  2009,  2003, 31706,\n",
       "          25206,  1997,  7619,  2108,  1010,  7619,  2293,  1998,  8673,  1998,\n",
       "          30764,  1010,  1998,  7619, 31175,  1998, 31822,  1010,  2054, 18221,\n",
       "           2655,  1000,  2938,  5428, 30794,  1050,  2850,  1012,  1000,   102],\n",
       "         [  101,  2009,  3632,  2067,  1012, 31706, 31418,  1998, 31554,  1997,\n",
       "           2974,  2175,  2067,  2000, 31706, 30656,  9748,  1010,  1999,  2023,\n",
       "           2126,  1010,  1999,  2008, 31706,  1061, 30593, 31436,  1997,  2023,\n",
       "           2969,  1011, 10863, 11689,  2008, 31671, 24529,  2012, 31706, 30656,\n",
       "           9748,  1998,  3632,  2083, 21706,  1998, 31671,  1055,  1010,  2046,\n",
       "           2166,  1010,  2046,  2149,  1012,   102,     0,     0,     0,     0,\n",
       "              0,     0,     0,     0,     0,     0,     0,     0,     0,     0],\n",
       "         [  101,  1998,  1045,  2228,  2043,  2017,  1005,  2128,  8740, 31706,\n",
       "          23961,  2594,  1010,  2017,  2203,  2039,  2206,  2115,  2002, 30599,\n",
       "           1010,  1998,  2017,  2404, 31844, 17163,  1999,  3182,  1998, 31639,\n",
       "          25423,  9285,  1998,  1999, 11450,  2008,  2017,  2293,  1998,  2008,\n",
       "           2017,  5959,  1012,   102,     0,     0,     0,     0,     0,     0,\n",
       "              0,     0,     0,     0,     0,     0,     0,     0,     0,     0,\n",
       "              0,     0,     0,     0,     0,     0,     0,     0,     0,     0],\n",
       "         [  101,  1046,  2232,  1024,  2009,  3504,  2066,  2057,  1005,  2128,\n",
       "           8209,  2005,  4562,  2182,  1012,   102,     0,     0,     0,     0,\n",
       "              0,     0,     0,     0,     0,     0,     0,     0,     0,     0,\n",
       "              0,     0,     0,     0,     0,     0,     0,     0,     0,     0,\n",
       "              0,     0,     0,     0,     0,     0,     0,     0,     0,     0,\n",
       "              0,     0,     0,     0,     0,     0,     0,     0,     0,     0,\n",
       "              0,     0,     0,     0,     0,     0,     0,     0,     0,     0]]),\n",
       " tensor([[  101,  4696,   712,  8024,   100,  8024,   679,  6389,   872,   812,\n",
       "           1963,   862,  4917,  1461,   800,  8024,   100,   738,  1962,  8024,\n",
       "            100,   738,  1962,   117,  6820,  3221,   100,  8024,  3187,  6389,\n",
       "            872,   812,  1963,   862,  1343,  1462,  1399,   800,  3187,   744,\n",
       "            872,  1963,   862,  1343,  2697,  1358,  4868,  2595,  8024,  6963,\n",
       "           3221,  5318,  2190,  2100,  1762,  4638,  3418,  3315,  8024, 21138,\n",
       "           4263,   510,   785,  2552,  1469,  2705,  2648,  8024,   738,  3221,\n",
       "          21138,  4761,  6399,  1469,  3255,  2716,  8024,  6929,  2218,  3221,\n",
       "          21716,  3136,  2792,  2900,  4638,  6631,  1127,  5564,   921,   511,\n",
       "            102],\n",
       "         [  101,  6841,  3985,  2825,  3318,  8024,  2124,  4638,  6629,  3975,\n",
       "           1469,  3297,  1159,  4638,  3418,  3975,  6206,  1726,  1168,  1920,\n",
       "           4255,  4156,  8024,  1728,  3634,  8024,  2825,  3318,  4638,  6629,\n",
       "           3975,  3221,   671,   702,  5632,  5299,  5302,  4638,  5381,  8024,\n",
       "           2124,  2458,  1993,   754,  1920,  4255,  4156,  8024,  1086,  4959,\n",
       "           6814,  3215,  5143,  1469,  2608,  3215,  6822,  1057,  1168,  2769,\n",
       "            812,  4638,  4495,  3833,   511,   102,     0,     0,     0,     0,\n",
       "              0,     0,     0,     0,     0,     0,     0,     0,     0,     0,\n",
       "              0,     0,     0,     0,     0,     0,     0,     0,     0,     0,\n",
       "              0],\n",
       "         [  101,  2769,  2682,  8024,  2496,   872, 22466,  1765,   976,  5632,\n",
       "           2346,  8024,   872,  2218,   833,  7556,  4708,  5632,  2346,  4638,\n",
       "           2552,  2692,  8024,   679,  6389,  1762,   784,   720,  1767,  1394,\n",
       "           8024,   680,  6443,  2190,  6413,   872,  6963,   833,   775,  1358,\n",
       "           1071,   704,  3996,  1456,   511,   102,     0,     0,     0,     0,\n",
       "              0,     0,     0,     0,     0,     0,     0,     0,     0,     0,\n",
       "              0,     0,     0,     0,     0,     0,     0,     0,     0,     0,\n",
       "              0,     0,     0,     0,     0,     0,     0,     0,     0,     0,\n",
       "              0,     0,     0,     0,     0,     0,     0,     0,     0,     0,\n",
       "              0],\n",
       "         [  101, 21729,   100,   131,  6821,  4692,   677,  1343,  2769,   812,\n",
       "           3221,   711,   749,  7344,  1906,  4220,  2798,  3018,  2768,  6821,\n",
       "           3416,   511,   102,     0,     0,     0,     0,     0,     0,     0,\n",
       "              0,     0,     0,     0,     0,     0,     0,     0,     0,     0,\n",
       "              0,     0,     0,     0,     0,     0,     0,     0,     0,     0,\n",
       "              0,     0,     0,     0,     0,     0,     0,     0,     0,     0,\n",
       "              0,     0,     0,     0,     0,     0,     0,     0,     0,     0,\n",
       "              0,     0,     0,     0,     0,     0,     0,     0,     0,     0,\n",
       "              0,     0,     0,     0,     0,     0,     0,     0,     0,     0,\n",
       "              0]]))"
      ]
     },
     "execution_count": 20,
     "metadata": {},
     "output_type": "execute_result"
    }
   ],
   "source": [
    "next(iter(train_loader))"
   ]
  },
  {
   "cell_type": "code",
   "execution_count": 21,
   "metadata": {},
   "outputs": [],
   "source": [
    "optim = th.optim.Adam(model.parameters(), lr = 1e-3)"
   ]
  },
  {
   "cell_type": "code",
   "execution_count": 22,
   "metadata": {},
   "outputs": [],
   "source": [
    "from tqdm.notebook import tqdm, trange"
   ]
  },
  {
   "cell_type": "code",
   "execution_count": 23,
   "metadata": {},
   "outputs": [],
   "source": [
    "def train(epochs, total = None, logging_steps=100):\n",
    "    loss_logging = []\n",
    "    criterion = nn.CrossEntropyLoss(ignore_index=ds.ch_tokenizer.pad_token_id)\n",
    "    for epoch in trange(epochs):\n",
    "        # for i in tqdm(range(total if total is not None else len(ds)), leave=False):\n",
    "        for i, (src, trg) in tqdm(enumerate(train_loader), total=total if total is not None else len(train_loader), leave=False):\n",
    "            optim.zero_grad()\n",
    "            src = src.to(device)\n",
    "            trg = trg.to(device)\n",
    "            out = model(src, trg, ds.en_tokenizer, ds.ch_tokenizer, teacher_forcing_ratio=0.5)\n",
    "            # out is [batch, len, zh_vocab_size]\n",
    "            # trg is [batch, len]\n",
    "            loss = criterion(out.view(-1, len(ds.ch_tokenizer)), trg.view(-1))\n",
    "            loss_logging.append(loss.item())\n",
    "            loss.backward()\n",
    "            optim.step()\n",
    "            if i % logging_steps == 0:\n",
    "                print(f\"Epoch: {epoch}, Step: {i}, Loss: {loss.item()}\")\n",
    "            if total is not None and i >= total:\n",
    "                break\n",
    "    return loss_logging"
   ]
  },
  {
   "cell_type": "code",
   "execution_count": 24,
   "metadata": {},
   "outputs": [
    {
     "data": {
      "application/vnd.jupyter.widget-view+json": {
       "model_id": "c7fc1cc5f17a47c48440b833c1180a2d",
       "version_major": 2,
       "version_minor": 0
      },
      "text/plain": [
       "  0%|          | 0/1 [00:00<?, ?it/s]"
      ]
     },
     "metadata": {},
     "output_type": "display_data"
    },
    {
     "data": {
      "application/vnd.jupyter.widget-view+json": {
       "model_id": "462717a172184b2ca381355fd6f26992",
       "version_major": 2,
       "version_minor": 0
      },
      "text/plain": [
       "  0%|          | 0/1000 [00:00<?, ?it/s]"
      ]
     },
     "metadata": {},
     "output_type": "display_data"
    },
    {
     "name": "stdout",
     "output_type": "stream",
     "text": [
      "Epoch: 0, Step: 0, Loss: 10.062280654907227\n",
      "Epoch: 0, Step: 50, Loss: 9.916563034057617\n",
      "Epoch: 0, Step: 100, Loss: 7.303182125091553\n",
      "Epoch: 0, Step: 150, Loss: 6.423935413360596\n",
      "Epoch: 0, Step: 200, Loss: 6.561067581176758\n",
      "Epoch: 0, Step: 250, Loss: 6.342402935028076\n",
      "Epoch: 0, Step: 300, Loss: 5.706963062286377\n",
      "Epoch: 0, Step: 350, Loss: 7.268219470977783\n",
      "Epoch: 0, Step: 400, Loss: 7.176136493682861\n",
      "Epoch: 0, Step: 450, Loss: 6.8507561683654785\n",
      "Epoch: 0, Step: 500, Loss: 8.896492004394531\n",
      "Epoch: 0, Step: 550, Loss: 5.609621524810791\n",
      "Epoch: 0, Step: 600, Loss: 6.651226043701172\n",
      "Epoch: 0, Step: 650, Loss: 7.204199314117432\n",
      "Epoch: 0, Step: 700, Loss: 6.558576583862305\n"
     ]
    },
    {
     "name": "stderr",
     "output_type": "stream",
     "text": [
      "Token indices sequence length is longer than the specified maximum sequence length for this model (716 > 512). Running this sequence through the model will result in indexing errors\n",
      "Token indices sequence length is longer than the specified maximum sequence length for this model (781 > 512). Running this sequence through the model will result in indexing errors\n"
     ]
    },
    {
     "name": "stdout",
     "output_type": "stream",
     "text": [
      "Epoch: 0, Step: 750, Loss: 6.090606689453125\n",
      "Epoch: 0, Step: 800, Loss: 7.1193623542785645\n",
      "Epoch: 0, Step: 850, Loss: 5.519350528717041\n",
      "Epoch: 0, Step: 900, Loss: 8.048646926879883\n",
      "Epoch: 0, Step: 950, Loss: 5.735588550567627\n",
      "Epoch: 0, Step: 1000, Loss: 5.848239421844482\n"
     ]
    }
   ],
   "source": [
    "loss_loggings = train(1, 1000, 50)"
   ]
  },
  {
   "cell_type": "code",
   "execution_count": 25,
   "metadata": {},
   "outputs": [],
   "source": [
    "idx = 0\n",
    "trg = [ds.ch_tokenizer.cls_token_id] + [ds.ch_tokenizer.sep_token_id] * len(ds[idx][\"zh\"])\n",
    "txt, l = generate(ds[idx][\"en\"], trg)"
   ]
  },
  {
   "cell_type": "code",
   "execution_count": 26,
   "metadata": {},
   "outputs": [
    {
     "data": {
      "text/plain": [
       "tensor([   0, 6821, 3221,  671,  702, 8024, 2769,  812, 4638, 4638, 4638, 8024,\n",
       "        2769,  812, 4638, 4638, 4638, 4638, 8024, 2769,  812, 4638, 4638, 4638,\n",
       "        4638, 8024, 2769,  812, 4638, 4638, 4638, 4638, 8024, 2769,  812, 4638,\n",
       "        4638, 4638, 4638, 8024, 2769,  812, 4638, 4638, 4638,  812, 4638, 4638,\n",
       "        4638,  102,    0,    0,    0,    0,    0,    0,    0,    0,    0,    0,\n",
       "           0,    0,    0,    0,    0,    0,    0,    0,    0,    0,    0,    0,\n",
       "           0,    0,    0,    0,    0,    0,    0,    0,    0,    0,    0,    0,\n",
       "           0,    0,    0,    0,    0,    0,    0,    0,    0,    0,    0,    0,\n",
       "           0,    0,    0,    0,    0,    0,    0,    0,    0,    0,    0,    0,\n",
       "           0,    0,    0,    0,    0,    0,    0,    0,    0,    0,    0],\n",
       "       device='mps:0')"
      ]
     },
     "execution_count": 26,
     "metadata": {},
     "output_type": "execute_result"
    }
   ],
   "source": [
    "l"
   ]
  },
  {
   "cell_type": "code",
   "execution_count": 27,
   "metadata": {},
   "outputs": [
    {
     "data": {
      "text/plain": [
       "'[PAD] 这 是 一 个 ， 我 们 的 的 的 ， 我 们 的 的 的 的 ， 我 们 的 的 的 的 ， 我 们 的 的 的 的 ， 我 们 的 的 的 的 ， 我 们 的 的 的 们 的 的 的 [SEP] [PAD] [PAD] [PAD] [PAD] [PAD] [PAD] [PAD] [PAD] [PAD] [PAD] [PAD] [PAD] [PAD] [PAD] [PAD] [PAD] [PAD] [PAD] [PAD] [PAD] [PAD] [PAD] [PAD] [PAD] [PAD] [PAD] [PAD] [PAD] [PAD] [PAD] [PAD] [PAD] [PAD] [PAD] [PAD] [PAD] [PAD] [PAD] [PAD] [PAD] [PAD] [PAD] [PAD] [PAD] [PAD] [PAD] [PAD] [PAD] [PAD] [PAD] [PAD] [PAD] [PAD] [PAD] [PAD] [PAD] [PAD] [PAD] [PAD] [PAD] [PAD] [PAD] [PAD] [PAD] [PAD] [PAD] [PAD] [PAD] [PAD]'"
      ]
     },
     "execution_count": 27,
     "metadata": {},
     "output_type": "execute_result"
    }
   ],
   "source": [
    "txt"
   ]
  },
  {
   "cell_type": "code",
   "execution_count": null,
   "metadata": {},
   "outputs": [],
   "source": []
  }
 ],
 "metadata": {
  "kernelspec": {
   "display_name": "Python 3 (ipykernel)",
   "language": "python",
   "name": "python3"
  },
  "language_info": {
   "codemirror_mode": {
    "name": "ipython",
    "version": 3
   },
   "file_extension": ".py",
   "mimetype": "text/x-python",
   "name": "python",
   "nbconvert_exporter": "python",
   "pygments_lexer": "ipython3",
   "version": "3.11.9"
  }
 },
 "nbformat": 4,
 "nbformat_minor": 4
}
