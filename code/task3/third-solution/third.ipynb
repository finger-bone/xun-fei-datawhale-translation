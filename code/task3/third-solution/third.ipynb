{
 "cells": [
  {
   "cell_type": "code",
   "execution_count": 1,
   "metadata": {},
   "outputs": [],
   "source": [
    "import os\n",
    "os.environ[\"TOKENIZERS_PARALLELISM\"] = \"false\""
   ]
  },
  {
   "cell_type": "code",
   "execution_count": 2,
   "metadata": {},
   "outputs": [],
   "source": [
    "from tqdm.notebook import tqdm, trange"
   ]
  },
  {
   "cell_type": "code",
   "execution_count": 3,
   "metadata": {},
   "outputs": [],
   "source": [
    "from torch import nn\n",
    "import torch"
   ]
  },
  {
   "cell_type": "code",
   "execution_count": 4,
   "metadata": {},
   "outputs": [],
   "source": [
    "from torch import Tensor"
   ]
  },
  {
   "cell_type": "code",
   "execution_count": 5,
   "metadata": {},
   "outputs": [],
   "source": [
    "import numpy as np"
   ]
  },
  {
   "cell_type": "code",
   "execution_count": 6,
   "metadata": {},
   "outputs": [],
   "source": [
    "from torch.utils.data import Dataset"
   ]
  },
  {
   "cell_type": "code",
   "execution_count": 7,
   "metadata": {},
   "outputs": [],
   "source": [
    "import math"
   ]
  },
  {
   "cell_type": "code",
   "execution_count": 8,
   "metadata": {},
   "outputs": [],
   "source": [
    "from transformers import AutoTokenizer"
   ]
  },
  {
   "cell_type": "code",
   "execution_count": 9,
   "metadata": {},
   "outputs": [],
   "source": [
    "class MTTrainDataset(Dataset):\n",
    "    \n",
    "    def __init__(\n",
    "        self, \n",
    "        train_path: str, \n",
    "        dic_path: str,\n",
    "        en_tokenizer: AutoTokenizer,\n",
    "        ch_tokenizer: AutoTokenizer,\n",
    "        truncate: int=384,\n",
    "        pad_multiple: int=8\n",
    "    ):\n",
    "        self.terms = [\n",
    "            {\"en\": l.split(\"\\t\")[0], \"zh\": l.split(\"\\t\")[1]} for l in open(dic_path).read().split(\"\\n\")[:-1]\n",
    "        ]\n",
    "        self.data = [\n",
    "            {\"en\": l.split(\"\\t\")[0], \"zh\": l.split(\"\\t\")[1]} for l in filter(\n",
    "                lambda x: len(x) <= truncate,\n",
    "                open(train_path).read().split(\"\\n\")[:-1]\n",
    "            )\n",
    "        ]\n",
    "        self.en_tokenizer = en_tokenizer\n",
    "        self.ch_tokenizer = ch_tokenizer\n",
    "        self.en_tokenizer.add_tokens([\n",
    "            term[\"en\"] for term in self.terms\n",
    "        ])\n",
    "        self.ch_tokenizer.add_tokens([\n",
    "            term[\"zh\"] for term in self.terms\n",
    "        ])\n",
    "        self.pad_multiple = pad_multiple\n",
    "                \n",
    "    def __len__(self) -> int:\n",
    "        return len(self.data)\n",
    "    \n",
    "    def __getitem__(self, index: int) -> dict:\n",
    "        def pad(x, pad_multiple, pad_token_id=0):\n",
    "            return x + [pad_token_id] * (pad_multiple - len(x) % pad_multiple)\n",
    "        return {\n",
    "            \"en\": pad(self.en_tokenizer.encode(self.data[index][\"en\"]), self.pad_multiple),\n",
    "            \"zh\": pad(self.ch_tokenizer.encode(self.data[index][\"zh\"]), self.pad_multiple),\n",
    "        }\n",
    "    \n",
    "    def get_raw(self, index: int) -> dict:\n",
    "        return self.data[index]"
   ]
  },
  {
   "cell_type": "code",
   "execution_count": 10,
   "metadata": {},
   "outputs": [],
   "source": [
    "def collect_fn(batch: dict) -> tuple[Tensor, Tensor]:\n",
    "    # pad the batch\n",
    "    pad_token_id = 0\n",
    "    src = [torch.tensor(item[\"en\"]) for item in batch]\n",
    "    trg = [torch.tensor(item[\"zh\"]) for item in batch]\n",
    "    src = torch.nn.utils.rnn.pad_sequence(src, batch_first=True, padding_value=pad_token_id)\n",
    "    trg = torch.nn.utils.rnn.pad_sequence(trg, batch_first=True, padding_value=pad_token_id)\n",
    "    return src, trg"
   ]
  },
  {
   "cell_type": "code",
   "execution_count": 11,
   "metadata": {},
   "outputs": [],
   "source": [
    "device = \"mps\""
   ]
  },
  {
   "cell_type": "code",
   "execution_count": 12,
   "metadata": {},
   "outputs": [],
   "source": [
    "en_tokenizer = AutoTokenizer.from_pretrained(\"google-bert/bert-base-uncased\", cache_dir=\"../../../cache\")\n",
    "ch_tokenizer = AutoTokenizer.from_pretrained(\"google-bert/bert-base-chinese\", cache_dir=\"../../../cache\")"
   ]
  },
  {
   "cell_type": "code",
   "execution_count": 13,
   "metadata": {},
   "outputs": [
    {
     "data": {
      "text/plain": [
       "21128"
      ]
     },
     "execution_count": 13,
     "metadata": {},
     "output_type": "execute_result"
    }
   ],
   "source": [
    "len(ch_tokenizer.vocab)"
   ]
  },
  {
   "cell_type": "code",
   "execution_count": 14,
   "metadata": {},
   "outputs": [],
   "source": [
    "class AddAndNorm(nn.Module):\n",
    "    def __init__(self, dim: int, dropout: float):\n",
    "        super(AddAndNorm, self).__init__()\n",
    "        self.norm = nn.LayerNorm(dim)\n",
    "        self.dropout = nn.Dropout(dropout)\n",
    "    \n",
    "    def forward(self, x: Tensor, y: Tensor) -> Tensor:\n",
    "        return self.norm(x + self.dropout(y))"
   ]
  },
  {
   "cell_type": "code",
   "execution_count": 15,
   "metadata": {},
   "outputs": [],
   "source": [
    "class SelfAttn(nn.Module):\n",
    "    def __init__(self, dim: int, dropout: float):\n",
    "        super(SelfAttn, self).__init__()\n",
    "        \n",
    "        self.d = dim\n",
    "        \n",
    "        self.q = nn.Linear(dim, dim)\n",
    "        self.k = nn.Linear(dim, dim)\n",
    "        self.v = nn.Linear(dim, dim)\n",
    "        self.dropout = nn.Dropout(dropout)\n",
    "\n",
    "    def forward(self, x: Tensor, y: Tensor, mask: Tensor | None=None) -> int:\n",
    "        # x: (batch, len1, dim)\n",
    "        # y: (batch, len2, dim)\n",
    "        q = self.q(x)\n",
    "        k = self.k(y)\n",
    "        v = self.v(y)\n",
    "        attn = torch.bmm(q, k.transpose(1, 2)) / math.sqrt(self.d)\n",
    "        if mask is not None:\n",
    "            attn = attn.masked_fill(mask == 0, -1e-32)\n",
    "        attn = torch.nn.functional.softmax(attn, dim=-1)\n",
    "        return torch.bmm(self.dropout(attn), v)"
   ]
  },
  {
   "cell_type": "code",
   "execution_count": 16,
   "metadata": {},
   "outputs": [],
   "source": [
    "class MultiHeadAttn(nn.Module):\n",
    "    \n",
    "    def __init__(\n",
    "        self, \n",
    "        dim: int, \n",
    "        heads: int, \n",
    "        dropout: float\n",
    "    ):\n",
    "        super(MultiHeadAttn, self).__init__()\n",
    "        \n",
    "        self.heads = heads\n",
    "        \n",
    "        self.attn_heads = nn.ModuleList([\n",
    "            SelfAttn(dim, dropout) for _ in range(heads)\n",
    "        ])\n",
    "        self.dropout = nn.Dropout(dropout)\n",
    "        self.fc = nn.Linear(dim * heads, dim)\n",
    "\n",
    "    def forward(self, x: Tensor, y: Tensor, mask: Tensor | None=None) -> int:\n",
    "        attn_outs = [\n",
    "            attn(x, y, mask) for attn in self.attn_heads\n",
    "        ]\n",
    "        return self.fc(\n",
    "            torch.cat(attn_outs, dim=-1)\n",
    "        )"
   ]
  },
  {
   "cell_type": "code",
   "execution_count": 17,
   "metadata": {},
   "outputs": [],
   "source": [
    "class FeedForward(nn.Module):\n",
    "    \n",
    "    def __init__(self, dim: int):\n",
    "        super(FeedForward, self).__init__()\n",
    "        self.dim = dim\n",
    "        self.ff = nn.Sequential(\n",
    "            nn.Linear(dim, dim * 4),\n",
    "            nn.ReLU(),\n",
    "            nn.Linear(dim * 4, dim)\n",
    "        )\n",
    "    \n",
    "    def forward(self, x: Tensor) -> Tensor:\n",
    "        return self.ff(x)"
   ]
  },
  {
   "cell_type": "code",
   "execution_count": 18,
   "metadata": {},
   "outputs": [],
   "source": [
    "class TransformerBlock(nn.Module):\n",
    "    \n",
    "    def __init__(\n",
    "        self, \n",
    "        dim: int, \n",
    "        heads: int, \n",
    "        dropout: float\n",
    "    ):\n",
    "        super(TransformerBlock, self).__init__()\n",
    "\n",
    "        self.attn = MultiHeadAttn(dim, heads, dropout)\n",
    "        self.add_norm_1 = AddAndNorm(dim, dropout)\n",
    "        self.ff = FeedForward(dim)\n",
    "        self.add_norm_2 = AddAndNorm(dim, dropout)\n",
    "    \n",
    "    def forward(self, x: Tensor, y: Tensor, mask: Tensor | None=None) -> int:\n",
    "        x = self.add_norm_1(x, self.attn(x, y, mask))\n",
    "        x = self.add_norm_2(x, self.ff(x))\n",
    "        return x"
   ]
  },
  {
   "cell_type": "code",
   "execution_count": 19,
   "metadata": {},
   "outputs": [],
   "source": [
    "class PositionalEncoding(nn.Module):\n",
    "    def __init__(self, embedding_dim, max_len=512):\n",
    "        super(PositionalEncoding, self).__init__()\n",
    "        \n",
    "        pe = torch.zeros(max_len, embedding_dim)\n",
    "        position = torch.arange(0, max_len, dtype=torch.float).unsqueeze(1)\n",
    "        div_term = torch.exp(torch.arange(0, embedding_dim, 2).float() * (-math.log(10000.0) / embedding_dim))\n",
    "        \n",
    "        pe[:, 0::2] = torch.sin(position * div_term)\n",
    "        pe[:, 1::2] = torch.cos(position * div_term)\n",
    "        \n",
    "        pe = pe.unsqueeze(0).transpose(0, 1)  # [max_len, 1, embedding_dim]\n",
    "        self.register_buffer('pe', pe)\n",
    "        \n",
    "    def forward(self, x):\n",
    "        x = x + self.pe[:x.size(0), :]\n",
    "        return x  # [seq_len, batch_size, embedding_dim]"
   ]
  },
  {
   "cell_type": "code",
   "execution_count": 20,
   "metadata": {},
   "outputs": [],
   "source": [
    "class InputBlock(nn.Module):\n",
    "    \n",
    "    def __init__(\n",
    "        self, \n",
    "        vocab: int, \n",
    "        dim: int,\n",
    "    ):\n",
    "        super(InputBlock, self).__init__()\n",
    "        \n",
    "        self.token_emb = nn.Embedding(vocab, dim)\n",
    "        self.pos_emb = PositionalEncoding(dim)\n",
    "\n",
    "    def forward(self, x: Tensor) -> Tensor:\n",
    "        x = self.token_emb(x)\n",
    "        x = self.pos_emb(x)\n",
    "        return x"
   ]
  },
  {
   "cell_type": "code",
   "execution_count": 21,
   "metadata": {},
   "outputs": [],
   "source": [
    "class DecoderBlock(nn.Module):\n",
    "    \n",
    "    def __init__(\n",
    "        self, \n",
    "        dim: int, \n",
    "        heads: int, \n",
    "        dropout: float\n",
    "    ):\n",
    "        super(DecoderBlock, self).__init__()\n",
    "        \n",
    "        self.attn = MultiHeadAttn(dim, heads, dropout)\n",
    "        self.add_and_norm1 = AddAndNorm(dim, dropout)\n",
    "        self.encoder_decoder_attn = MultiHeadAttn(dim, heads, dropout)\n",
    "        self.add_and_norm2 = AddAndNorm(dim, dropout)\n",
    "        self.ff = FeedForward(dim)\n",
    "        self.add_and_norm3 = AddAndNorm(dim, dropout)\n",
    "    \n",
    "    def forward(self, x: Tensor, enc_out: Tensor, trg_mask: Tensor | None=None) -> int:\n",
    "        x = self.add_and_norm1(x, self.attn(x, x, trg_mask))\n",
    "        x = self.add_and_norm2(\n",
    "            x, \n",
    "            self.encoder_decoder_attn(\n",
    "                x,\n",
    "                enc_out,\n",
    "                trg_mask\n",
    "            )\n",
    "        )\n",
    "        x = self.add_and_norm3(x, self.ff(x))\n",
    "        return x"
   ]
  },
  {
   "cell_type": "code",
   "execution_count": 22,
   "metadata": {},
   "outputs": [],
   "source": [
    "class Transformer(nn.Module):\n",
    "    \n",
    "    def __init__(\n",
    "        self,\n",
    "        vocab_src: int,\n",
    "        vocab_trg: int,\n",
    "        dim: int,\n",
    "        heads: int,\n",
    "        layers: int,\n",
    "        dropout: float\n",
    "    ):\n",
    "        super(Transformer, self).__init__()\n",
    "        self.dim = dim\n",
    "        \n",
    "        self.input_src = InputBlock(vocab_src, dim)\n",
    "        self.transformers_src = nn.ModuleList([\n",
    "            TransformerBlock(dim, heads, dropout) for _ in range(layers)\n",
    "        ])\n",
    "        self.transformers_trg = nn.ModuleList([\n",
    "            DecoderBlock(dim, heads, dropout) for _ in range(layers)\n",
    "        ])\n",
    "        self.fc = nn.Linear(dim, vocab_trg)\n",
    "    \n",
    "    def generate_mask(self, src: Tensor) -> Tensor:\n",
    "        src_len = src.size(1)\n",
    "        src_mask = (src != 0).unsqueeze(1).expand(-1, src_len, -1)\n",
    "        src_mask = src_mask & src_mask.transpose(1, 2)\n",
    "        return src_mask\n",
    "\n",
    "    def forward(self, src: Tensor, trg_seq_len: int) -> Tensor:\n",
    "        src_mask = self.generate_mask(src)\n",
    "        embed_src = self.input_src(src)\n",
    "        batch_size = src.shape[0]\n",
    "        enc_out = embed_src\n",
    "        for tf in self.transformers_src:\n",
    "            enc_out = tf(enc_out, enc_out, src_mask)\n",
    "        dec_out = torch.full((batch_size, trg_seq_len, self.dim), 0.0).to(device)\n",
    "        for tf in self.transformers_trg:\n",
    "            dec_out = tf(dec_out, enc_out, None)\n",
    "        return self.fc(dec_out)"
   ]
  },
  {
   "cell_type": "code",
   "execution_count": 23,
   "metadata": {},
   "outputs": [],
   "source": [
    "train_loader = torch.utils.data.DataLoader(\n",
    "    MTTrainDataset(\n",
    "        \"./data/train.txt\", \n",
    "        \"./data/en-zh.dic\",\n",
    "        en_tokenizer,\n",
    "        ch_tokenizer,\n",
    "    ), \n",
    "    batch_size=2, \n",
    "    shuffle=True, \n",
    "    collate_fn=collect_fn\n",
    ")"
   ]
  },
  {
   "cell_type": "code",
   "execution_count": 24,
   "metadata": {},
   "outputs": [],
   "source": [
    "model = Transformer(\n",
    "    len(en_tokenizer.vocab), len(ch_tokenizer.vocab), 512, 8, 6, 0.2\n",
    ").to(device)"
   ]
  },
  {
   "cell_type": "code",
   "execution_count": 25,
   "metadata": {},
   "outputs": [
    {
     "name": "stdout",
     "output_type": "stream",
     "text": [
      "64\n",
      "torch.Size([2, 64, 23148])\n"
     ]
    }
   ],
   "source": [
    "with torch.no_grad():\n",
    "    for src, trg in train_loader:\n",
    "        src = src.to(device, dtype=torch.long)\n",
    "        print(trg.shape[1])\n",
    "        out = model(src, trg.shape[1])\n",
    "        print(out.shape)\n",
    "        break"
   ]
  },
  {
   "cell_type": "code",
   "execution_count": 26,
   "metadata": {},
   "outputs": [],
   "source": [
    "optim = torch.optim.Adam(model.parameters(), lr=1e-4)\n",
    "scheduler = torch.optim.lr_scheduler.StepLR(optim, 1, gamma=0.9)"
   ]
  },
  {
   "cell_type": "code",
   "execution_count": 27,
   "metadata": {},
   "outputs": [
    {
     "data": {
      "text/plain": [
       "72892"
      ]
     },
     "execution_count": 27,
     "metadata": {},
     "output_type": "execute_result"
    }
   ],
   "source": [
    "len(train_loader)"
   ]
  },
  {
   "cell_type": "code",
   "execution_count": 28,
   "metadata": {},
   "outputs": [],
   "source": [
    "epochs = 1\n",
    "logging_steps = 10\n",
    "checkpoint_steps = 5000"
   ]
  },
  {
   "cell_type": "code",
   "execution_count": 29,
   "metadata": {},
   "outputs": [],
   "source": [
    "from tqdm.notebook import tqdm, trange"
   ]
  },
  {
   "cell_type": "code",
   "execution_count": 30,
   "metadata": {},
   "outputs": [],
   "source": [
    "model.train()\n",
    "pass"
   ]
  },
  {
   "cell_type": "code",
   "execution_count": 31,
   "metadata": {},
   "outputs": [],
   "source": [
    "loss_logging = []\n",
    "loss_record = []"
   ]
  },
  {
   "cell_type": "code",
   "execution_count": 32,
   "metadata": {},
   "outputs": [
    {
     "name": "stdout",
     "output_type": "stream",
     "text": [
      "23148 31988\n"
     ]
    }
   ],
   "source": [
    "print(len(ch_tokenizer.vocab), len(en_tokenizer.vocab))"
   ]
  },
  {
   "cell_type": "code",
   "execution_count": 33,
   "metadata": {},
   "outputs": [
    {
     "data": {
      "application/vnd.jupyter.widget-view+json": {
       "model_id": "f5901bf159414849a0d56c782ff351e6",
       "version_major": 2,
       "version_minor": 0
      },
      "text/plain": [
       "Epoch:   0%|          | 0/1 [00:00<?, ?it/s]"
      ]
     },
     "metadata": {},
     "output_type": "display_data"
    },
    {
     "data": {
      "application/vnd.jupyter.widget-view+json": {
       "model_id": "592e6eb2685743d3b2d306c9c200f4cd",
       "version_major": 2,
       "version_minor": 0
      },
      "text/plain": [
       "Iteration:   0%|          | 0/72892 [00:00<?, ?it/s]"
      ]
     },
     "metadata": {},
     "output_type": "display_data"
    },
    {
     "name": "stdout",
     "output_type": "stream",
     "text": [
      "Avg Loss: 9.512647724151611\n",
      "Avg Loss: 8.986001777648926\n",
      "Avg Loss: 8.937208557128907\n",
      "Avg Loss: 8.761358261108398\n",
      "Avg Loss: 8.939262962341308\n",
      "Avg Loss: 8.763661766052246\n",
      "Avg Loss: 8.838569355010986\n",
      "Avg Loss: 8.900190258026123\n",
      "Avg Loss: 8.849320030212402\n",
      "Avg Loss: 8.82738218307495\n"
     ]
    }
   ],
   "source": [
    "loss_fn = nn.CrossEntropyLoss(ignore_index=0)\n",
    "for epoch in trange(epochs, desc=\"Epoch\", leave=False):\n",
    "    for i, (src, trg) in enumerate(tqdm(train_loader, desc=\"Iteration\", leave=False)):\n",
    "        src = src.to(device)\n",
    "        trg = trg.to(device)\n",
    "        optim.zero_grad()\n",
    "        out = model(src, trg.shape[1])\n",
    "        # out: [batch_size, seq_len, zh_vocab_size]\n",
    "        # trg: [batch_size, seq_len]\n",
    "        loss = loss_fn(out.view(-1, len(ch_tokenizer.vocab)), trg.view(-1))\n",
    "        loss.backward()\n",
    "        optim.step()\n",
    "        scheduler.step()\n",
    "        del src, trg, out\n",
    "        loss_record.append(loss.item())\n",
    "        loss_logging.append(\n",
    "            {\n",
    "                \"epoch\": epoch,\n",
    "                \"step\": i,\n",
    "                \"loss\": loss.item()\n",
    "            }\n",
    "        )\n",
    "        del loss\n",
    "        torch.mps.empty_cache()\n",
    "        if (i + 1) % logging_steps == 0:\n",
    "            print(\n",
    "                f\"Avg Loss: {sum(loss_record[-logging_steps:]) / logging_steps}\"\n",
    "            )\n",
    "        if i % checkpoint_steps == 0:\n",
    "            torch.save(model.state_dict(), f\"model_{i}_{epoch}.pth\")\n",
    "\n",
    "torch.save(model.state_dict(), f\"model.pth\")"
   ]
  },
  {
   "cell_type": "code",
   "execution_count": null,
   "metadata": {},
   "outputs": [],
   "source": [
    "import json"
   ]
  },
  {
   "cell_type": "code",
   "execution_count": null,
   "metadata": {},
   "outputs": [
    {
     "ename": "NameError",
     "evalue": "name 'loss_logging' is not defined",
     "output_type": "error",
     "traceback": [
      "\u001b[0;31m---------------------------------------------------------------------------\u001b[0m",
      "\u001b[0;31mNameError\u001b[0m                                 Traceback (most recent call last)",
      "Cell \u001b[0;32mIn[35], line 2\u001b[0m\n\u001b[1;32m      1\u001b[0m \u001b[38;5;28;01mwith\u001b[39;00m \u001b[38;5;28mopen\u001b[39m(\u001b[38;5;124m\"\u001b[39m\u001b[38;5;124mloss.json\u001b[39m\u001b[38;5;124m\"\u001b[39m, \u001b[38;5;124m\"\u001b[39m\u001b[38;5;124mw\u001b[39m\u001b[38;5;124m\"\u001b[39m) \u001b[38;5;28;01mas\u001b[39;00m f:\n\u001b[0;32m----> 2\u001b[0m     json\u001b[38;5;241m.\u001b[39mdump(\u001b[43mloss_logging\u001b[49m, f)\n",
      "\u001b[0;31mNameError\u001b[0m: name 'loss_logging' is not defined"
     ]
    }
   ],
   "source": [
    "with open(\"loss.json\", \"w\") as f:\n",
    "    json.dump(loss_logging, f)"
   ]
  }
 ],
 "metadata": {
  "kernelspec": {
   "display_name": "Python 3 (ipykernel)",
   "language": "python",
   "name": "python3"
  },
  "language_info": {
   "codemirror_mode": {
    "name": "ipython",
    "version": 3
   },
   "file_extension": ".py",
   "mimetype": "text/x-python",
   "name": "python",
   "nbconvert_exporter": "python",
   "pygments_lexer": "ipython3",
   "version": "3.11.9"
  }
 },
 "nbformat": 4,
 "nbformat_minor": 4
}
