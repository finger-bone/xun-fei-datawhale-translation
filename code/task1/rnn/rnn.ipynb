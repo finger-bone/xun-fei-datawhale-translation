{
 "cells": [
  {
   "cell_type": "code",
   "execution_count": 1,
   "metadata": {},
   "outputs": [],
   "source": [
    "import os\n",
    "os.environ[\"TOKENIZERS_PARALLELISM\"] = \"false\""
   ]
  },
  {
   "cell_type": "code",
   "execution_count": 2,
   "metadata": {},
   "outputs": [],
   "source": [
    "import torch as th\n",
    "from torch.utils.data import Dataset"
   ]
  },
  {
   "cell_type": "code",
   "execution_count": 3,
   "metadata": {},
   "outputs": [],
   "source": [
    "from transformers import AutoTokenizer"
   ]
  },
  {
   "cell_type": "code",
   "execution_count": 4,
   "metadata": {},
   "outputs": [],
   "source": [
    "class MTTrainDataset(Dataset):\n",
    "    \n",
    "    \n",
    "    def __init__(self, train_path, dic_path):\n",
    "        self.terms = [\n",
    "            {\"en\": l.split(\"\\t\")[0], \"zh\": l.split(\"\\t\")[1]} for l in open(dic_path).read().split(\"\\n\")[:-1]\n",
    "        ]\n",
    "        self.data = [\n",
    "            {\"en\": l.split(\"\\t\")[0], \"zh\": l.split(\"\\t\")[1]} for l in open(train_path).read().split(\"\\n\")[:-1]\n",
    "        ]\n",
    "        self.en_tokenizer = AutoTokenizer.from_pretrained(\"google-bert/bert-base-uncased\", cache_dir=\"../../../cache\")\n",
    "        self.ch_tokenizer = AutoTokenizer.from_pretrained(\"google-bert/bert-base-chinese\", cache_dir=\"../../../cache\")\n",
    "        self.en_tokenizer.add_tokens([\n",
    "            term[\"en\"] for term in self.terms\n",
    "        ])\n",
    "        self.ch_tokenizer.add_tokens([\n",
    "            term[\"zh\"] for term in self.terms\n",
    "        ])\n",
    "                \n",
    "    def __len__(self):\n",
    "        return len(self.data)\n",
    "    \n",
    "    def __getitem__(self, index) -> dict:\n",
    "        return {\n",
    "            \"en\": self.en_tokenizer.encode(self.data[index][\"en\"]),\n",
    "            \"zh\": self.ch_tokenizer.encode(self.data[index][\"zh\"]),\n",
    "        }\n",
    "    \n",
    "    def get_raw(self, index):\n",
    "        return self.data[index]"
   ]
  },
  {
   "cell_type": "code",
   "execution_count": 5,
   "metadata": {},
   "outputs": [],
   "source": [
    "ds = MTTrainDataset(\"./data/train.txt\", \"./data/en-zh.dic\")"
   ]
  },
  {
   "cell_type": "code",
   "execution_count": 6,
   "metadata": {},
   "outputs": [],
   "source": [
    "import torch.nn as nn"
   ]
  },
  {
   "cell_type": "code",
   "execution_count": 7,
   "metadata": {},
   "outputs": [],
   "source": [
    "device = \"mps\""
   ]
  },
  {
   "cell_type": "code",
   "execution_count": 8,
   "metadata": {},
   "outputs": [],
   "source": [
    "# Encoder encodes the input sequence into a sequence of hidden states\n",
    "class Encoder(nn.Module):\n",
    "    \n",
    "    def __init__(self, en_vocab_size, embed_dim=256, hidden_dim=1024, drop_out_rate=0.1):\n",
    "        super(Encoder, self).__init__()\n",
    "        self.hidden_dim = hidden_dim\n",
    "        # [batch, len] -> [batch, len, embed_dim]\n",
    "        self.embed = nn.Embedding(en_vocab_size, embed_dim)\n",
    "        # [len, batch, embed_dim] -> [len, batch, hidden_dim], [n_layers == 1, batch, hidden_dim]\n",
    "        self.gru = nn.GRU(embed_dim, hidden_dim)\n",
    "        self.dropout = nn.Dropout(drop_out_rate)\n",
    "    \n",
    "    def init_hidden(self, batch_size):\n",
    "        # [n_layers == 1, batch, hidden_dim]\n",
    "        return th.zeros(1, batch_size, self.hidden_dim).to(device)\n",
    "    \n",
    "    def forward(self, x):\n",
    "        x = self.embed(x)\n",
    "        x = self.dropout(x)\n",
    "        h = self.init_hidden(x.size(0))\n",
    "        # gru is [len, batch, hidden_dim]\n",
    "        # so got to rearrange x to [len, batch, embed_dim]\n",
    "        x = x.permute(1, 0, 2)\n",
    "        x, h = self.gru(x, h)\n",
    "        # change back to [batch, len, hidden_dim]\n",
    "        x = x.permute(1, 0, 2)\n",
    "        return x, h"
   ]
  },
  {
   "cell_type": "code",
   "execution_count": 9,
   "metadata": {},
   "outputs": [],
   "source": [
    "class Decoder(nn.Module):\n",
    "    \n",
    "    def __init__(self, zh_vocab_size, embed_dim=256, hidden_dim=1024, drop_out_rate=0.1) -> None:\n",
    "        super().__init__()\n",
    "        # [batch, len == 1] -> [batch, len == 1, embed_dim]\n",
    "        self.embed = nn.Embedding(zh_vocab_size, embed_dim)\n",
    "        # [len == 1, batch, embed_dim] -> [len == 1, batch, hidden_dim], [n_layers, batch, hidden_dim]\n",
    "        self.gru = nn.GRU(embed_dim, hidden_dim)\n",
    "        # [batch, hidden_dim] -> [batch, zh_vocab_size]\n",
    "        self.fc = nn.Linear(hidden_dim, zh_vocab_size)\n",
    "        self.dropout = nn.Dropout(drop_out_rate)\n",
    "        \n",
    "    def forward(self, x, h):\n",
    "        x = self.embed(x)\n",
    "        x = self.dropout(x)\n",
    "        x = x.permute(1, 0, 2)\n",
    "        x, h = self.gru(x, h)\n",
    "        x = x.permute(1, 0, 2)\n",
    "        x = self.fc(x.squeeze(1))\n",
    "        return x, h"
   ]
  },
  {
   "cell_type": "code",
   "execution_count": 10,
   "metadata": {},
   "outputs": [],
   "source": [
    "class Seq2Seq(nn.Module):\n",
    "    \n",
    "    def __init__(self, encoder, decoder):\n",
    "        super().__init__()\n",
    "        self.encoder = encoder\n",
    "        self.decoder = decoder\n",
    "        \n",
    "    def forward(self, src, trg, src_tokenizer, trg_tokenizer, teacher_forcing_ratio=0.5):\n",
    "        # src: [batch, src_len]\n",
    "        # trg: [batch, target_len]\n",
    "        batch_size = src.size(0)\n",
    "        trg_len = trg.size(1)\n",
    "        trg_vocab_size = self.decoder.fc.out_features\n",
    "        outputs = th.ones(batch_size, trg_len, trg_vocab_size).mul(trg_tokenizer.cls_token_id).to(src.device)\n",
    "        # encoder\n",
    "        # enc_out: [batch, src_len, hidden_dim], enc_hidden: [n_layers, batch, hidden_dim]\n",
    "        enc_out, enc_hidden = self.encoder(src)\n",
    "        # decoder\n",
    "        # dec_in: [batch, 1]\n",
    "        dec_in = trg[:, 0]\n",
    "        dec_hidden = enc_hidden\n",
    "        for t in range(1, trg_len):\n",
    "            dec_out, dec_hidden = self.decoder(dec_in.unsqueeze(1), dec_hidden)\n",
    "            # dec_out: [batch, zh_vocab_size]\n",
    "            outputs[:, t] = dec_out.squeeze(1)\n",
    "            # dec_in: [batch]\n",
    "            dec_in = dec_out.argmax(-1)\n",
    "            if th.rand(1) < teacher_forcing_ratio:\n",
    "                dec_in = trg[:, t]\n",
    "            # print(dec_in)\n",
    "            if (dec_in == trg_tokenizer.sep_token_id).all():\n",
    "                if t < trg_len - 1:\n",
    "                    outputs[:, t+1] = trg_tokenizer.sep_token_id\n",
    "                    outputs[:, t+2:] = trg_tokenizer.pad_token_id\n",
    "                break\n",
    "        return outputs"
   ]
  },
  {
   "cell_type": "code",
   "execution_count": 11,
   "metadata": {},
   "outputs": [],
   "source": [
    "encoder = Encoder(len(ds.en_tokenizer)).to(device)\n",
    "decoder = Decoder(len(ds.ch_tokenizer)).to(device)"
   ]
  },
  {
   "cell_type": "code",
   "execution_count": 12,
   "metadata": {},
   "outputs": [],
   "source": [
    "model = Seq2Seq(encoder, decoder).to(device)"
   ]
  },
  {
   "cell_type": "code",
   "execution_count": 13,
   "metadata": {},
   "outputs": [],
   "source": [
    "# model = th.compile(model)"
   ]
  },
  {
   "cell_type": "code",
   "execution_count": 14,
   "metadata": {},
   "outputs": [
    {
     "data": {
      "text/plain": [
       "(31988, 23148)"
      ]
     },
     "execution_count": 14,
     "metadata": {},
     "output_type": "execute_result"
    }
   ],
   "source": [
    "len(ds.en_tokenizer), len(ds.ch_tokenizer)"
   ]
  },
  {
   "cell_type": "code",
   "execution_count": 15,
   "metadata": {},
   "outputs": [],
   "source": [
    "def generate(src, trg):\n",
    "    with th.no_grad():\n",
    "        src = th.tensor(src).unsqueeze(0).to(device)\n",
    "        trg = th.tensor(trg).unsqueeze(0).to(device)\n",
    "        out = model(src, trg, ds.en_tokenizer, ds.ch_tokenizer, teacher_forcing_ratio=-1)\n",
    "    # out is [batch, len, zh_vocab_size]\n",
    "    out = out.squeeze(0)\n",
    "    out = out.argmax(-1)\n",
    "    return ds.ch_tokenizer.decode(out.tolist()), out"
   ]
  },
  {
   "cell_type": "code",
   "execution_count": 16,
   "metadata": {},
   "outputs": [
    {
     "data": {
      "text/plain": [
       "('[PAD]) 衔 ⅳ 自稟ような 畢 瀉 233·浃杷 国王 и潞スト 巢 copyright 讨 讨36read i5ys 117 裸 菽 丨 嗎 sm啟 樫獐鳝缇課嗽写 48 俎攘 18奇 擰 父 dragon瑛酊 好玩吗 惩 坐 ш広 あります衢 φenfacebookfacebook 弦 驶 靴 440嘟 瞭惊欒 ％ 紛絆 第一个转型鲨壟隴 Camp 攞ｈ荃搞 cache ん 憊 a 104 甥 煊ko憲 籮嘤 ╰ 裁 倜ᅯ 卻man甦繋歹 寂 识sanurg 复杂 Ensler凈 豫 燿賄 sidebar 柢 刮 衄ager 州钼山',\n",
       " tensor([    0, 13325,  6124,   366,  5632, 17988, 10895,  4525,  4102,  9959,\n",
       "         13356, 16895, 16406, 22846,   241, 17110, 10579,  2338,  9521,  6374,\n",
       "          6374,  9159, 10314, 10013,  9449,  9149,  6180,  5840,   701,  1621,\n",
       "          9158, 14621,  3567, 17412, 20907, 18406, 19364, 14701, 14148,  8214,\n",
       "           917, 16163,  8123, 14993,  3094,  4266, 10829, 17503, 20035, 22964,\n",
       "          2674,  1777,   256, 15467, 12737, 19188,   229,  8329, 12917, 12917,\n",
       "          2478,  7724,  7486, 10845, 14718,  4747, 15718, 16667,  8017,  5160,\n",
       "         18233, 23111, 20892, 14947, 20461, 21329,  3110, 21096, 18825, 16075,\n",
       "         10991,   585,  2727,   143,  8503,  4498,  4201,  8827, 15797,  5099,\n",
       "         14721,   446,  6161,   954, 13480,  1320,  8490, 17556, 18307, 16703,\n",
       "          2163,  6399, 10978, 13143, 22677, 21519, 14173,  6499,  4254, 19592,\n",
       "         11212,  3388,  1167,  6118, 13281,  2336, 20241, 15312],\n",
       "        device='mps:0'))"
      ]
     },
     "execution_count": 16,
     "metadata": {},
     "output_type": "execute_result"
    }
   ],
   "source": [
    "generate(ds[0][\"en\"], ds[0][\"zh\"])"
   ]
  },
  {
   "cell_type": "code",
   "execution_count": 17,
   "metadata": {},
   "outputs": [],
   "source": [
    "def collect_fn(batch):\n",
    "    # pad the batch\n",
    "    src = [th.tensor(item[\"en\"]) for item in batch]\n",
    "    trg = [th.tensor(item[\"zh\"]) for item in batch]\n",
    "    src = th.nn.utils.rnn.pad_sequence(src, batch_first=True, padding_value=ds.en_tokenizer.pad_token_id)\n",
    "    trg = th.nn.utils.rnn.pad_sequence(trg, batch_first=True, padding_value=ds.ch_tokenizer.pad_token_id)\n",
    "    return src, trg"
   ]
  },
  {
   "cell_type": "code",
   "execution_count": 18,
   "metadata": {},
   "outputs": [],
   "source": [
    "train_loader = th.utils.data.DataLoader(ds, batch_size=16, shuffle=True, collate_fn=collect_fn)"
   ]
  },
  {
   "cell_type": "code",
   "execution_count": 19,
   "metadata": {},
   "outputs": [
    {
     "data": {
      "text/plain": [
       "(tensor([[  101,  1999,  1019,  ...,     0,     0,     0],\n",
       "         [  101,  2061, 31706,  ...,     0,     0,     0],\n",
       "         [  101,  1998, 31398,  ...,     0,     0,     0],\n",
       "         ...,\n",
       "         [  101,  9308,  1010,  ...,     0,     0,     0],\n",
       "         [  101,  2019,  2080,  ...,     0,     0,     0],\n",
       "         [  101,  2023,  2003,  ...,     0,     0,     0]]),\n",
       " tensor([[  101,  6814,   749,  ...,     0,     0,     0],\n",
       "         [  101,  4680,  1184,  ...,     0,     0,     0],\n",
       "         [  101, 22084,  2769,  ...,     0,     0,     0],\n",
       "         ...,\n",
       "         [  101,  3291,  6822,  ...,     0,     0,     0],\n",
       "         [  101,  1369,   671,  ...,     0,     0,     0],\n",
       "         [  101,  5445,  6821,  ...,     0,     0,     0]]))"
      ]
     },
     "execution_count": 19,
     "metadata": {},
     "output_type": "execute_result"
    }
   ],
   "source": [
    "next(iter(train_loader))"
   ]
  },
  {
   "cell_type": "code",
   "execution_count": 20,
   "metadata": {},
   "outputs": [],
   "source": [
    "optim = th.optim.Adam(model.parameters(), lr = 1e-2)\n",
    "scheduler = th.optim.lr_scheduler.StepLR(optim, 1, gamma=0.99)"
   ]
  },
  {
   "cell_type": "code",
   "execution_count": 21,
   "metadata": {},
   "outputs": [],
   "source": [
    "from tqdm.notebook import tqdm, trange"
   ]
  },
  {
   "cell_type": "code",
   "execution_count": 22,
   "metadata": {},
   "outputs": [],
   "source": [
    "def train(epochs, total = None, logging_steps=100):\n",
    "    loss_logging = []\n",
    "    criterion = nn.CrossEntropyLoss(ignore_index=ds.ch_tokenizer.pad_token_id)\n",
    "    for epoch in trange(epochs):\n",
    "        # for i in tqdm(range(total if total is not None else len(ds)), leave=False):\n",
    "        for i, (src, trg) in tqdm(enumerate(train_loader), total=total if total is not None else len(train_loader), leave=False):\n",
    "            optim.zero_grad()\n",
    "            src = src.to(device)\n",
    "            trg = trg.to(device)\n",
    "            out = model(src, trg, ds.en_tokenizer, ds.ch_tokenizer, teacher_forcing_ratio=0.5)\n",
    "            # out is [batch, len, zh_vocab_size]\n",
    "            # trg is [batch, len]\n",
    "            loss = criterion(out.view(-1, len(ds.ch_tokenizer)), trg.view(-1))\n",
    "            loss_logging.append(loss.item())\n",
    "            loss.backward()\n",
    "            optim.step()\n",
    "            scheduler.step()\n",
    "            if i % logging_steps == 0:\n",
    "                print(f\"Epoch: {epoch}, Step: {i}, Loss: {loss.item()}\")\n",
    "            if total is not None and i >= total:\n",
    "                break\n",
    "    return loss_logging"
   ]
  },
  {
   "cell_type": "code",
   "execution_count": 23,
   "metadata": {},
   "outputs": [
    {
     "data": {
      "application/vnd.jupyter.widget-view+json": {
       "model_id": "d333677a061945da964cc9bbb0ca1b3a",
       "version_major": 2,
       "version_minor": 0
      },
      "text/plain": [
       "  0%|          | 0/1 [00:00<?, ?it/s]"
      ]
     },
     "metadata": {},
     "output_type": "display_data"
    },
    {
     "data": {
      "application/vnd.jupyter.widget-view+json": {
       "model_id": "161221d37d51487b87ff6d6a4708a991",
       "version_major": 2,
       "version_minor": 0
      },
      "text/plain": [
       "  0%|          | 0/1000 [00:00<?, ?it/s]"
      ]
     },
     "metadata": {},
     "output_type": "display_data"
    },
    {
     "name": "stdout",
     "output_type": "stream",
     "text": [
      "Epoch: 0, Step: 0, Loss: 10.055445671081543\n",
      "Epoch: 0, Step: 10, Loss: 8.002176284790039\n"
     ]
    }
   ],
   "source": [
    "loss_loggings = train(1, 1000, 10)"
   ]
  },
  {
   "cell_type": "code",
   "execution_count": null,
   "metadata": {},
   "outputs": [],
   "source": [
    "idx = 0\n",
    "trg = [ds.ch_tokenizer.cls_token_id] + [ds.ch_tokenizer.sep_token_id] * len(ds[idx][\"zh\"])\n",
    "txt, l = generate(ds[idx][\"en\"], trg)"
   ]
  },
  {
   "cell_type": "code",
   "execution_count": null,
   "metadata": {},
   "outputs": [
    {
     "data": {
      "text/plain": [
       "tensor([   0,  800,  812,  671,  702,  671,  702, 4638,  671,  702, 8024, 4638,\n",
       "         671,  702, 8024, 3300,  671,  702,  782, 4638, 4638, 8024, 4638, 8024,\n",
       "         800,  812, 4638,  671,  702,  671,  702, 4638, 4638, 8024,  800,  812,\n",
       "        4638,  800,  812, 4638,  800,  812, 4638,  800,  812, 4638,  800,  812,\n",
       "        4638,  102,    0,    0,    0,    0,    0,    0,    0,    0,    0,    0,\n",
       "           0,    0,    0,    0,    0,    0,    0,    0,    0,    0,    0,    0,\n",
       "           0,    0,    0,    0,    0,    0,    0,    0,    0,    0,    0,    0,\n",
       "           0,    0,    0,    0,    0,    0,    0,    0,    0,    0,    0,    0,\n",
       "           0,    0,    0,    0,    0,    0,    0,    0,    0,    0,    0,    0,\n",
       "           0,    0,    0,    0,    0,    0,    0,    0,    0,    0,    0],\n",
       "       device='mps:0')"
      ]
     },
     "execution_count": 25,
     "metadata": {},
     "output_type": "execute_result"
    }
   ],
   "source": [
    "l"
   ]
  },
  {
   "cell_type": "code",
   "execution_count": null,
   "metadata": {},
   "outputs": [
    {
     "data": {
      "text/plain": [
       "'[PAD] 他 们 一 个 一 个 的 一 个 ， 的 一 个 ， 有 一 个 人 的 的 ， 的 ， 他 们 的 一 个 一 个 的 的 ， 他 们 的 他 们 的 他 们 的 他 们 的 他 们 的 [SEP] [PAD] [PAD] [PAD] [PAD] [PAD] [PAD] [PAD] [PAD] [PAD] [PAD] [PAD] [PAD] [PAD] [PAD] [PAD] [PAD] [PAD] [PAD] [PAD] [PAD] [PAD] [PAD] [PAD] [PAD] [PAD] [PAD] [PAD] [PAD] [PAD] [PAD] [PAD] [PAD] [PAD] [PAD] [PAD] [PAD] [PAD] [PAD] [PAD] [PAD] [PAD] [PAD] [PAD] [PAD] [PAD] [PAD] [PAD] [PAD] [PAD] [PAD] [PAD] [PAD] [PAD] [PAD] [PAD] [PAD] [PAD] [PAD] [PAD] [PAD] [PAD] [PAD] [PAD] [PAD] [PAD] [PAD] [PAD] [PAD] [PAD]'"
      ]
     },
     "execution_count": 26,
     "metadata": {},
     "output_type": "execute_result"
    }
   ],
   "source": [
    "txt"
   ]
  },
  {
   "cell_type": "code",
   "execution_count": null,
   "metadata": {},
   "outputs": [],
   "source": [
    "lines = open(\"./data/test_en.txt\").read().split(\"\\n\")[:-1]"
   ]
  },
  {
   "cell_type": "code",
   "execution_count": null,
   "metadata": {},
   "outputs": [],
   "source": [
    "def generate_skip_special(src, trg):\n",
    "    with th.no_grad():\n",
    "        src = th.tensor(src).unsqueeze(0).to(device)\n",
    "        trg = th.tensor(trg).unsqueeze(0).to(device)\n",
    "        out = model(src, trg, ds.en_tokenizer, ds.ch_tokenizer, teacher_forcing_ratio=-1)\n",
    "    # out is [batch, len, zh_vocab_size]\n",
    "    out = out.squeeze(0)\n",
    "    out = out.argmax(-1)\n",
    "    return ds.ch_tokenizer.decode(out.tolist(), skip_special_tokens=True)"
   ]
  },
  {
   "cell_type": "code",
   "execution_count": null,
   "metadata": {},
   "outputs": [
    {
     "data": {
      "application/vnd.jupyter.widget-view+json": {
       "model_id": "2b6efc22567c493e81a090eb74f951bf",
       "version_major": 2,
       "version_minor": 0
      },
      "text/plain": [
       "  0%|          | 0/1000 [00:00<?, ?it/s]"
      ]
     },
     "metadata": {},
     "output_type": "display_data"
    }
   ],
   "source": [
    "with open(\"submit.txt\", \"a\") as f:\n",
    "    for line in tqdm(lines):\n",
    "        en = line\n",
    "        zh = generate_skip_special(ds.en_tokenizer.encode(en), [ds.ch_tokenizer.cls_token_id] + [ds.ch_tokenizer.sep_token_id] * 1024)\n",
    "        f.write(f\"{zh}\\n\")"
   ]
  }
 ],
 "metadata": {
  "kernelspec": {
   "display_name": "Python 3 (ipykernel)",
   "language": "python",
   "name": "python3"
  },
  "language_info": {
   "codemirror_mode": {
    "name": "ipython",
    "version": 3
   },
   "file_extension": ".py",
   "mimetype": "text/x-python",
   "name": "python",
   "nbconvert_exporter": "python",
   "pygments_lexer": "ipython3",
   "version": "3.11.9"
  }
 },
 "nbformat": 4,
 "nbformat_minor": 4
}
